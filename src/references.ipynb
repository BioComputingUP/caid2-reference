{
 "cells": [
  {
   "cell_type": "markdown",
   "id": "61ed17b0",
   "metadata": {},
   "source": [
    "# Generate CAID-2 references\n",
    "\n",
    "DisProt data can be obtained directly exporting the relevant database collections (ask the developers): \n",
    "\n",
    "```bash\n",
    "# 20 Nov 2022\n",
    "mongoexport -d disprot8 -c entries_2022_06 -o disprot_entries_2022_06.mjson\n",
    "mongoexport -d disprot8 -c entries_2022_12_c -o disprot_entries_2022_12_c.mjson\n",
    "scp moros:disprot_entries* .\n",
    "```\n",
    "Or using the download service from the website (lastest annotations might not be available to the public). Note the formats are slightly different.\n",
    "\n",
    "AlphaFold (processed) predictions can be obtained using the code in the [AlphaFold-disorder](https://github.com/BioComputingUP/AlphaFold-disorder) repository.\n",
    "\n",
    "Preliminary steps:\n",
    "```bash\n",
    "# Generate the folder structure\n",
    "mkdir -p ../data/{disprot,sifts,alphafold,output/references}\n",
    "    \n",
    "# Download data (20 Nov 2022)\n",
    "wget -O data/sifts/uniprot_segments_observed.tsv.gz ftp://ftp.ebi.ac.uk/pub/databases/msd/sifts/flatfiles/tsv/uniprot_segments_observed.tsv.gz\n",
    "wget -O data/disprot/go-basic.obo http://purl.obolibrary.org/obo/go/go-basic.obo\n",
    "```\n",
    "\n",
    "## TODO\n",
    "Additional references\n",
    "* disorder without PDB missing residues regions"
   ]
  },
  {
   "cell_type": "code",
   "execution_count": 1,
   "id": "7c6883c4",
   "metadata": {},
   "outputs": [],
   "source": [
    "import os\n",
    "import json\n",
    "import pandas as pd\n",
    "import networkx\n",
    "import numpy as np\n",
    "import obonet  # conda install -c biobuilds obonet"
   ]
  },
  {
   "cell_type": "code",
   "execution_count": 2,
   "id": "128d9a36",
   "metadata": {},
   "outputs": [],
   "source": [
    "go_obo_file = \"../data/disprot/go-basic.obo\"\n",
    "disprot_old_file = \"../data/disprot/disprot_entries_2022_06.mjson\"\n",
    "disprot_new_file = \"../data/disprot/disprot_entries_2022_12_c.mjson\"\n",
    "sifts_file = \"../data/sifts/uniprot_segments_observed.tsv.gz\"\n",
    "\n",
    "# Output\n",
    "references_dir = \"../data/output/references\"\n",
    "dataset_raw_file = \"../data/output/dataset_raw.tsv\"\n",
    "dataset_ec_file = \"../data/output/dataset_ec.tsv\"\n",
    "dataset_file = \"../data/output/dataset.tsv\"\n",
    "fasta_new_file = \"../data/output/disprot_new.fasta\"\n",
    "fasta_old_file = \"../data/output/disprot_old.fasta\""
   ]
  },
  {
   "cell_type": "code",
   "execution_count": 3,
   "id": "894f713e",
   "metadata": {},
   "outputs": [],
   "source": [
    "def expand_region(df_:pd.DataFrame, start_col:str='start', end_col:str='end', res_col:str='reg_position') -> pd.DataFrame:\n",
    "    df_[res_col] = list(range(int(df_[start_col]), int(df_[end_col]) + 1, 1))\n",
    "    return df_\n",
    "\n",
    "def expand_sequence(df_:pd.DataFrame, seq_column:str='sequence', res_col:str='seq_aa') -> pd.DataFrame:\n",
    "    df_[res_col] = [(i+1, aa) for i, aa in enumerate(df_[seq_column])]\n",
    "    return df_"
   ]
  },
  {
   "cell_type": "markdown",
   "id": "e06a9e33",
   "metadata": {},
   "source": [
    "## Associate DisProt annotation terms to CAID challenges"
   ]
  },
  {
   "cell_type": "code",
   "execution_count": 4,
   "id": "9755b664",
   "metadata": {},
   "outputs": [],
   "source": [
    "# IDPO terms\n",
    "data_idpo = [\n",
    "            ('IDPO:00076', 'disorder'), ('IDPO:00077', 'disorder'), ('IDPO:00078', 'disorder'), \n",
    "            ('IDPO:00502', 'linker'),\n",
    "            ('IDPO:00049', 'transition'), ('IDPO:00050', 'transition'), \n",
    "            ('IDPO:00051', 'transition'), ('IDPO:00052', 'transition'), ('IDPO:00053', 'transition'), \n",
    "            ('IDPO:00060', 'transition'), ('IDPO:00055', 'transition'), ('IDPO:00056', 'transition'), \n",
    "            ('IDPO:00061', 'transition'), ('IDPO:00054', 'transition'), ('IDPO:00057', 'transition'), \n",
    "            ('IDPO:00058', 'transition'), ('IDPO:00059', 'transition')]\n",
    "\n",
    "# ('IDPO:00501', 'linker'),  ('IDPO:00503', 'linker'), ('IDPO:00504', 'linker')\n",
    "\n",
    "# GO ancestor terms corresponding to CAID2 challenges\n",
    "ancestors = {'GO:0005488': 'binding', 'GO:0003676': 'binding nucleic acid', 'GO:0005515': 'binding protein'}"
   ]
  },
  {
   "cell_type": "code",
   "execution_count": 5,
   "id": "b8ab573d",
   "metadata": {},
   "outputs": [],
   "source": [
    "# The OBO must have \"ontology: GO\" header (first line)\n",
    "graph = obonet.read_obo(go_obo_file)\n",
    "\n",
    "# Remove all edges which are not \"is_a\"\n",
    "to_remove = []\n",
    "for e in graph.edges:\n",
    "    if e[2] != 'is_a':\n",
    "        to_remove.append((e[0], e[1]))\n",
    "for ele in to_remove:\n",
    "    graph.remove_edge(*ele)\n",
    "    \n",
    "# Create children table\n",
    "data_go = []    \n",
    "for node in graph.nodes(data=True):\n",
    "    challenge = ancestors.get(node[0])\n",
    "    if challenge is not None:\n",
    "        data_go.append([node[0], challenge])\n",
    "        for children in networkx.ancestors(graph, node[0]): \n",
    "            data_go.append([children, challenge])"
   ]
  },
  {
   "cell_type": "code",
   "execution_count": 6,
   "id": "10a327bf",
   "metadata": {},
   "outputs": [
    {
     "data": {
      "text/plain": "         term_id        challenge\n0     IDPO:00076         disorder\n1     IDPO:00077         disorder\n2     IDPO:00078         disorder\n3     IDPO:00502           linker\n4     IDPO:00049       transition\n...          ...              ...\n3082  GO:0050811  binding protein\n3083  GO:0031803  binding protein\n3084  GO:1990311  binding protein\n3085  GO:0032183  binding protein\n3086  GO:0001092  binding protein\n\n[3087 rows x 2 columns]",
      "text/html": "<div>\n<style scoped>\n    .dataframe tbody tr th:only-of-type {\n        vertical-align: middle;\n    }\n\n    .dataframe tbody tr th {\n        vertical-align: top;\n    }\n\n    .dataframe thead th {\n        text-align: right;\n    }\n</style>\n<table border=\"1\" class=\"dataframe\">\n  <thead>\n    <tr style=\"text-align: right;\">\n      <th></th>\n      <th>term_id</th>\n      <th>challenge</th>\n    </tr>\n  </thead>\n  <tbody>\n    <tr>\n      <th>0</th>\n      <td>IDPO:00076</td>\n      <td>disorder</td>\n    </tr>\n    <tr>\n      <th>1</th>\n      <td>IDPO:00077</td>\n      <td>disorder</td>\n    </tr>\n    <tr>\n      <th>2</th>\n      <td>IDPO:00078</td>\n      <td>disorder</td>\n    </tr>\n    <tr>\n      <th>3</th>\n      <td>IDPO:00502</td>\n      <td>linker</td>\n    </tr>\n    <tr>\n      <th>4</th>\n      <td>IDPO:00049</td>\n      <td>transition</td>\n    </tr>\n    <tr>\n      <th>...</th>\n      <td>...</td>\n      <td>...</td>\n    </tr>\n    <tr>\n      <th>3082</th>\n      <td>GO:0050811</td>\n      <td>binding protein</td>\n    </tr>\n    <tr>\n      <th>3083</th>\n      <td>GO:0031803</td>\n      <td>binding protein</td>\n    </tr>\n    <tr>\n      <th>3084</th>\n      <td>GO:1990311</td>\n      <td>binding protein</td>\n    </tr>\n    <tr>\n      <th>3085</th>\n      <td>GO:0032183</td>\n      <td>binding protein</td>\n    </tr>\n    <tr>\n      <th>3086</th>\n      <td>GO:0001092</td>\n      <td>binding protein</td>\n    </tr>\n  </tbody>\n</table>\n<p>3087 rows × 2 columns</p>\n</div>"
     },
     "execution_count": 6,
     "metadata": {},
     "output_type": "execute_result"
    }
   ],
   "source": [
    "df_challenge = pd.DataFrame(data=data_idpo + data_go, columns=['term_id', 'challenge']).drop_duplicates()\n",
    "df_challenge"
   ]
  },
  {
   "cell_type": "markdown",
   "id": "1df1453d",
   "metadata": {},
   "source": [
    "## Process DisProt annotations"
   ]
  },
  {
   "cell_type": "code",
   "execution_count": 7,
   "id": "2227c32d",
   "metadata": {},
   "outputs": [],
   "source": [
    "# Get DisProt annotations\n",
    "disprot_old = {}\n",
    "with open(disprot_old_file, \"r\") as f:\n",
    "    for line in f:\n",
    "        obj = json.loads(line)\n",
    "        disprot_old[obj[\"disprot_id\"]] = obj\n",
    "        \n",
    "disprot_new = {}\n",
    "with open(disprot_new_file, \"r\") as f:\n",
    "    for line in f:\n",
    "        obj = json.loads(line)\n",
    "        disprot_new[obj[\"disprot_id\"]] = obj"
   ]
  },
  {
   "cell_type": "code",
   "execution_count": 8,
   "id": "1cfd44ed",
   "metadata": {},
   "outputs": [
    {
     "name": "stdout",
     "output_type": "stream",
     "text": [
      "DP02362 excluded, only obsolete regions\n",
      "DP02450 excluded, only obsolete regions\n",
      "DP02902 excluded, only obsolete regions\n",
      "DP02906 excluded, only obsolete regions\n",
      "DP02932 excluded, only obsolete regions\n",
      "DP02938 excluded, only obsolete regions\n",
      "DP02942 excluded, only obsolete regions\n",
      "DP02952 excluded, only obsolete regions\n",
      "DP02955 excluded, only obsolete regions\n",
      "DP02963 excluded, only obsolete regions\n",
      "DP02974 excluded, only obsolete regions\n",
      "DP02997 excluded, only obsolete regions\n",
      "DP02998 excluded, only obsolete regions\n",
      "DP03009 excluded, only obsolete regions\n",
      "DP03036 excluded, only obsolete regions\n",
      "DP03051 excluded, contain X\n",
      "DP03077 excluded, only obsolete regions\n",
      "DP03084 excluded, only obsolete regions\n",
      "DP03097 excluded, only obsolete regions\n",
      "DP03103 excluded, only obsolete regions\n",
      "DP03128 excluded, only obsolete regions\n",
      "DP03146 excluded, only obsolete regions\n",
      "DP03165 excluded, only obsolete regions\n",
      "DP03188 excluded, only obsolete regions\n",
      "DP03208 excluded, only obsolete regions\n",
      "DP03244 excluded, only obsolete regions\n",
      "DP03247 excluded, only obsolete regions\n",
      "DP03252 excluded, only obsolete regions\n",
      "DP03370 excluded, only obsolete regions\n",
      "DP03371 excluded, only obsolete regions\n",
      "DP03375 excluded, only obsolete regions\n",
      "DP03384 excluded, only obsolete regions\n",
      "DP03441 excluded, only obsolete regions\n",
      "DP03443 excluded, only obsolete regions\n",
      "DP03461 excluded, only obsolete regions\n",
      "DP03462 excluded, only obsolete regions\n",
      "DP03463 excluded, only obsolete regions\n",
      "DP03468 excluded, only obsolete regions\n",
      "DP03474 excluded, only obsolete regions\n",
      "DP03478 excluded, only obsolete regions\n",
      "DP03484 excluded, only obsolete regions\n",
      "DP03491 excluded, only obsolete regions\n",
      "DP03493 excluded, only obsolete regions\n",
      "DP03518 excluded, only obsolete regions\n",
      "DP03540 excluded, only obsolete regions\n",
      "DP03561 excluded, only obsolete regions\n",
      "DP03564 excluded, only obsolete regions\n",
      "DP03576 excluded, only obsolete regions\n",
      "DP03592 excluded, contain X\n",
      "DP03593 excluded, contain X\n",
      "DP03602 excluded, only obsolete regions\n",
      "DP03603 excluded, only obsolete regions\n",
      "DP03668 excluded, only obsolete regions\n",
      "DP03754 excluded, only obsolete regions\n",
      "DP03787 excluded, contain X\n",
      "DP03789 excluded, contain X\n",
      "DP03846 excluded, only obsolete regions\n"
     ]
    }
   ],
   "source": [
    "# Get new annotations (delta = new - old)\n",
    "dataset = []  # New valid annotations\n",
    "for disprot_id in disprot_new:\n",
    "    if disprot_id not in disprot_old and \"obsolete\" not in disprot_new[disprot_id]:\n",
    "        if \"X\" not in disprot_new[disprot_id][\"sequence\"]:\n",
    "            # Filter out obsolete regions\n",
    "            disprot_new[disprot_id][\"regions\"] = [region for region in disprot_new[disprot_id][\"regions\"] if \"obsolete\" not in region]\n",
    "            if disprot_new[disprot_id][\"regions\"]:\n",
    "                dataset.append(disprot_new[disprot_id])\n",
    "            else:\n",
    "                print(\"{} excluded, only obsolete regions\".format(disprot_id))\n",
    "        else:\n",
    "            print(\"{} excluded, contain X\".format(disprot_id))"
   ]
  },
  {
   "cell_type": "code",
   "execution_count": 9,
   "id": "d1633f85",
   "metadata": {},
   "outputs": [],
   "source": [
    "# Write fasta for homology calculation\n",
    "with open(fasta_new_file, \"w\") as fout:\n",
    "    for obj in dataset:\n",
    "        fout.write(\">{}|{}\\n{}\\n\".format(obj['disprot_id'], obj['acc'], obj['sequence']))\n",
    "\n",
    "with open(fasta_old_file, \"w\") as fout:\n",
    "    for disprot_id, obj in disprot_old.items():\n",
    "        if \"obsolete\" not in obj:\n",
    "            fout.write(\">{}|{}\\n{}\\n\".format(obj['disprot_id'], obj['acc'], obj['sequence']))\n"
   ]
  },
  {
   "cell_type": "code",
   "execution_count": 10,
   "id": "7ac2bebb",
   "metadata": {},
   "outputs": [
    {
     "data": {
      "text/plain": "Index(['region_id', 'unpublished', 'ec_ontology', 'end', 'term_id', 'start',\n       'version', 'statement', 'term_name', 'ec_name', 'curator_orcid',\n       'released', 'term_ontology', 'curator_name', 'reference_id', 'date',\n       'reference_source', 'term_namespace', 'ec_id', 'curator_id',\n       'reference_html', 'ec_go', 'disprot_namespace', 'validated.curator_id',\n       'validated.timestamp', 'validated.curator_name', 'term_not_annotate',\n       'term_is_obsolete', 'term_comment', 'term_def', 'term_is_binding',\n       'interaction_partner', 'cross_refs', 'confidence', 'sample',\n       'term_xref', 'construct_alterations', 'sequence_construct',\n       'term_go_domain', 'states_connection', 'conditions',\n       'annotation_extensions', 'disprot_id', 'acc', 'ncbi_taxon_id',\n       'organism', 'sequence', 'challenge'],\n      dtype='object')"
     },
     "execution_count": 10,
     "metadata": {},
     "output_type": "execute_result"
    }
   ],
   "source": [
    "# Convert json to dataframe\n",
    "entry_columns = ['disprot_id', 'acc', 'ncbi_taxon_id', 'organism', 'sequence']\n",
    "df = pd.json_normalize(data=dataset, record_path=['regions'], meta=entry_columns, meta_prefix='', record_prefix='')\n",
    "df = pd.merge(left=df, right=df_challenge, how=\"inner\", on=\"term_id\")\n",
    "df.to_csv(dataset_raw_file, sep=\"\\t\", index=False)\n",
    "df.columns"
   ]
  },
  {
   "cell_type": "code",
   "execution_count": 11,
   "id": "5a0972a7",
   "metadata": {},
   "outputs": [
    {
     "data": {
      "text/plain": "     disprot_id         acc ncbi_taxon_id  \\\n0       DP02342      P06837         10090   \n1       DP02342      P06837         10090   \n2       DP03000      Q997F2        121791   \n3       DP03000      Q997F2        121791   \n4       DP03001      O55777        928303   \n...         ...         ...           ...   \n1450    DP03708      Q8IGP5          7227   \n1451    DP03708      Q8IGP5          7227   \n1452    DP03739      P24588          9606   \n1453    DP03739      P24588          9606   \n1454    DP03773  A0A024B7W1       2043570   \n\n                                               organism  \\\n0                                          Mus musculus   \n1                                          Mus musculus   \n2                                           Nipah virus   \n3                                           Nipah virus   \n4     Hendra virus (isolate Horse/Autralia/Hendra/1994)   \n...                                                 ...   \n1450                            Drosophila melanogaster   \n1451                            Drosophila melanogaster   \n1452                                       Homo sapiens   \n1453                                       Homo sapiens   \n1454  Zika virus (isolate ZIKV/Human/French Polynesi...   \n\n                                               sequence  start   end  \\\n0     MLCCMRRTKQVEKNDEDQKIEQDGVKPEDKAHKAATKIQASFRGHI...      1   227   \n1     MLCCMRRTKQVEKNDEDQKIEQDGVKPEDKAHKAATKIQASFRGHI...      1   227   \n2     MDKLELVNDGLNIIDFIQKNQKEIQKTYGRSSIQQPSIKDQTKAWE...      1   456   \n3     MDKLELVNDGLNIIDFIQKNQKEIQKTYGRSSIQQPSIKDQTKAWE...      1   456   \n4     MDKLDLVNDGLDIIDFIQKNQKEIQKTYGRSSIQQPSTKDRTRAWE...      1   457   \n...                                                 ...    ...   ...   \n1450  MEDLTKNIIFTNAINGQPATIQYQTADGTILKQPKIEGQKTEQQPT...      1    86   \n1451  MEDLTKNIIFTNAINGQPATIQYQTADGTILKQPKIEGQKTEQQPT...      1    86   \n1452  METTISEIHVENKDEKRSAEGSPGAERQKEKASMLCFKRRKKAAKA...    390   417   \n1453  METTISEIHVENKDEKRSAEGSPGAERQKEKASMLCFKRRKKAAKA...    390   417   \n1454  MKNPKKKSGGFRIVNMLKRGVARVSPFGGLKRLPAGLLLGHGPIRM...   2396  2434   \n\n         term_id        ec_id        challenge  \n0     IDPO:00078  ECO:0006204         disorder  \n1     IDPO:00078  ECO:0006165         disorder  \n2     IDPO:00078  ECO:0007680         disorder  \n3     IDPO:00078  ECO:0006204         disorder  \n4     IDPO:00078  ECO:0007680         disorder  \n...          ...          ...              ...  \n1450  GO:0042803  ECO:0006210          binding  \n1451  GO:0042803  ECO:0006210  binding protein  \n1452  GO:0005516  ECO:0006165          binding  \n1453  GO:0005516  ECO:0006165  binding protein  \n1454  IDPO:00052  ECO:0006204       transition  \n\n[1455 rows x 10 columns]",
      "text/html": "<div>\n<style scoped>\n    .dataframe tbody tr th:only-of-type {\n        vertical-align: middle;\n    }\n\n    .dataframe tbody tr th {\n        vertical-align: top;\n    }\n\n    .dataframe thead th {\n        text-align: right;\n    }\n</style>\n<table border=\"1\" class=\"dataframe\">\n  <thead>\n    <tr style=\"text-align: right;\">\n      <th></th>\n      <th>disprot_id</th>\n      <th>acc</th>\n      <th>ncbi_taxon_id</th>\n      <th>organism</th>\n      <th>sequence</th>\n      <th>start</th>\n      <th>end</th>\n      <th>term_id</th>\n      <th>ec_id</th>\n      <th>challenge</th>\n    </tr>\n  </thead>\n  <tbody>\n    <tr>\n      <th>0</th>\n      <td>DP02342</td>\n      <td>P06837</td>\n      <td>10090</td>\n      <td>Mus musculus</td>\n      <td>MLCCMRRTKQVEKNDEDQKIEQDGVKPEDKAHKAATKIQASFRGHI...</td>\n      <td>1</td>\n      <td>227</td>\n      <td>IDPO:00078</td>\n      <td>ECO:0006204</td>\n      <td>disorder</td>\n    </tr>\n    <tr>\n      <th>1</th>\n      <td>DP02342</td>\n      <td>P06837</td>\n      <td>10090</td>\n      <td>Mus musculus</td>\n      <td>MLCCMRRTKQVEKNDEDQKIEQDGVKPEDKAHKAATKIQASFRGHI...</td>\n      <td>1</td>\n      <td>227</td>\n      <td>IDPO:00078</td>\n      <td>ECO:0006165</td>\n      <td>disorder</td>\n    </tr>\n    <tr>\n      <th>2</th>\n      <td>DP03000</td>\n      <td>Q997F2</td>\n      <td>121791</td>\n      <td>Nipah virus</td>\n      <td>MDKLELVNDGLNIIDFIQKNQKEIQKTYGRSSIQQPSIKDQTKAWE...</td>\n      <td>1</td>\n      <td>456</td>\n      <td>IDPO:00078</td>\n      <td>ECO:0007680</td>\n      <td>disorder</td>\n    </tr>\n    <tr>\n      <th>3</th>\n      <td>DP03000</td>\n      <td>Q997F2</td>\n      <td>121791</td>\n      <td>Nipah virus</td>\n      <td>MDKLELVNDGLNIIDFIQKNQKEIQKTYGRSSIQQPSIKDQTKAWE...</td>\n      <td>1</td>\n      <td>456</td>\n      <td>IDPO:00078</td>\n      <td>ECO:0006204</td>\n      <td>disorder</td>\n    </tr>\n    <tr>\n      <th>4</th>\n      <td>DP03001</td>\n      <td>O55777</td>\n      <td>928303</td>\n      <td>Hendra virus (isolate Horse/Autralia/Hendra/1994)</td>\n      <td>MDKLDLVNDGLDIIDFIQKNQKEIQKTYGRSSIQQPSTKDRTRAWE...</td>\n      <td>1</td>\n      <td>457</td>\n      <td>IDPO:00078</td>\n      <td>ECO:0007680</td>\n      <td>disorder</td>\n    </tr>\n    <tr>\n      <th>...</th>\n      <td>...</td>\n      <td>...</td>\n      <td>...</td>\n      <td>...</td>\n      <td>...</td>\n      <td>...</td>\n      <td>...</td>\n      <td>...</td>\n      <td>...</td>\n      <td>...</td>\n    </tr>\n    <tr>\n      <th>1450</th>\n      <td>DP03708</td>\n      <td>Q8IGP5</td>\n      <td>7227</td>\n      <td>Drosophila melanogaster</td>\n      <td>MEDLTKNIIFTNAINGQPATIQYQTADGTILKQPKIEGQKTEQQPT...</td>\n      <td>1</td>\n      <td>86</td>\n      <td>GO:0042803</td>\n      <td>ECO:0006210</td>\n      <td>binding</td>\n    </tr>\n    <tr>\n      <th>1451</th>\n      <td>DP03708</td>\n      <td>Q8IGP5</td>\n      <td>7227</td>\n      <td>Drosophila melanogaster</td>\n      <td>MEDLTKNIIFTNAINGQPATIQYQTADGTILKQPKIEGQKTEQQPT...</td>\n      <td>1</td>\n      <td>86</td>\n      <td>GO:0042803</td>\n      <td>ECO:0006210</td>\n      <td>binding protein</td>\n    </tr>\n    <tr>\n      <th>1452</th>\n      <td>DP03739</td>\n      <td>P24588</td>\n      <td>9606</td>\n      <td>Homo sapiens</td>\n      <td>METTISEIHVENKDEKRSAEGSPGAERQKEKASMLCFKRRKKAAKA...</td>\n      <td>390</td>\n      <td>417</td>\n      <td>GO:0005516</td>\n      <td>ECO:0006165</td>\n      <td>binding</td>\n    </tr>\n    <tr>\n      <th>1453</th>\n      <td>DP03739</td>\n      <td>P24588</td>\n      <td>9606</td>\n      <td>Homo sapiens</td>\n      <td>METTISEIHVENKDEKRSAEGSPGAERQKEKASMLCFKRRKKAAKA...</td>\n      <td>390</td>\n      <td>417</td>\n      <td>GO:0005516</td>\n      <td>ECO:0006165</td>\n      <td>binding protein</td>\n    </tr>\n    <tr>\n      <th>1454</th>\n      <td>DP03773</td>\n      <td>A0A024B7W1</td>\n      <td>2043570</td>\n      <td>Zika virus (isolate ZIKV/Human/French Polynesi...</td>\n      <td>MKNPKKKSGGFRIVNMLKRGVARVSPFGGLKRLPAGLLLGHGPIRM...</td>\n      <td>2396</td>\n      <td>2434</td>\n      <td>IDPO:00052</td>\n      <td>ECO:0006204</td>\n      <td>transition</td>\n    </tr>\n  </tbody>\n</table>\n<p>1455 rows × 10 columns</p>\n</div>"
     },
     "execution_count": 11,
     "metadata": {},
     "output_type": "execute_result"
    }
   ],
   "source": [
    "region_columns = [\"start\", \"end\", \"term_id\", \"ec_id\", \"challenge\"]\n",
    "df = df.loc[:, entry_columns + region_columns]\n",
    "df"
   ]
  },
  {
   "cell_type": "code",
   "execution_count": 12,
   "id": "464e37b1",
   "metadata": {},
   "outputs": [
    {
     "data": {
      "text/plain": "     disprot_id     acc  pos aa\n0       DP02342  P06837    1  M\n0       DP02342  P06837    2  L\n0       DP02342  P06837    3  C\n0       DP02342  P06837    4  C\n0       DP02342  P06837    5  M\n...         ...     ...  ... ..\n1361    DP02544  Q04410  368  Q\n1361    DP02544  Q04410  369  S\n1361    DP02544  Q04410  370  S\n1361    DP02544  Q04410  371  S\n1361    DP02544  Q04410  372  D\n\n[378666 rows x 4 columns]",
      "text/html": "<div>\n<style scoped>\n    .dataframe tbody tr th:only-of-type {\n        vertical-align: middle;\n    }\n\n    .dataframe tbody tr th {\n        vertical-align: top;\n    }\n\n    .dataframe thead th {\n        text-align: right;\n    }\n</style>\n<table border=\"1\" class=\"dataframe\">\n  <thead>\n    <tr style=\"text-align: right;\">\n      <th></th>\n      <th>disprot_id</th>\n      <th>acc</th>\n      <th>pos</th>\n      <th>aa</th>\n    </tr>\n  </thead>\n  <tbody>\n    <tr>\n      <th>0</th>\n      <td>DP02342</td>\n      <td>P06837</td>\n      <td>1</td>\n      <td>M</td>\n    </tr>\n    <tr>\n      <th>0</th>\n      <td>DP02342</td>\n      <td>P06837</td>\n      <td>2</td>\n      <td>L</td>\n    </tr>\n    <tr>\n      <th>0</th>\n      <td>DP02342</td>\n      <td>P06837</td>\n      <td>3</td>\n      <td>C</td>\n    </tr>\n    <tr>\n      <th>0</th>\n      <td>DP02342</td>\n      <td>P06837</td>\n      <td>4</td>\n      <td>C</td>\n    </tr>\n    <tr>\n      <th>0</th>\n      <td>DP02342</td>\n      <td>P06837</td>\n      <td>5</td>\n      <td>M</td>\n    </tr>\n    <tr>\n      <th>...</th>\n      <td>...</td>\n      <td>...</td>\n      <td>...</td>\n      <td>...</td>\n    </tr>\n    <tr>\n      <th>1361</th>\n      <td>DP02544</td>\n      <td>Q04410</td>\n      <td>368</td>\n      <td>Q</td>\n    </tr>\n    <tr>\n      <th>1361</th>\n      <td>DP02544</td>\n      <td>Q04410</td>\n      <td>369</td>\n      <td>S</td>\n    </tr>\n    <tr>\n      <th>1361</th>\n      <td>DP02544</td>\n      <td>Q04410</td>\n      <td>370</td>\n      <td>S</td>\n    </tr>\n    <tr>\n      <th>1361</th>\n      <td>DP02544</td>\n      <td>Q04410</td>\n      <td>371</td>\n      <td>S</td>\n    </tr>\n    <tr>\n      <th>1361</th>\n      <td>DP02544</td>\n      <td>Q04410</td>\n      <td>372</td>\n      <td>D</td>\n    </tr>\n  </tbody>\n</table>\n<p>378666 rows × 4 columns</p>\n</div>"
     },
     "execution_count": 12,
     "metadata": {},
     "output_type": "execute_result"
    }
   ],
   "source": [
    "# Get dataset sequences (1 residue per row)\n",
    "df_sequence = df.apply(expand_sequence, axis=1).copy(deep=True).drop(columns=[\"ncbi_taxon_id\", \"organism\", \"start\", \"end\", \"sequence\", \"term_id\", \"ec_id\", 'challenge'])\n",
    "df_sequence = df_sequence.explode(\"seq_aa\")\n",
    "df_sequence[['pos', 'aa']] = pd.DataFrame(df_sequence['seq_aa'].tolist(), index=df_sequence.index)\n",
    "df_sequence = df_sequence.drop(columns='seq_aa').drop_duplicates()\n",
    "df_sequence"
   ]
  },
  {
   "cell_type": "markdown",
   "id": "4e19bc31",
   "metadata": {},
   "source": [
    "## Map PDB observed positions using SIFTS"
   ]
  },
  {
   "cell_type": "code",
   "execution_count": 13,
   "id": "61f6abc2",
   "metadata": {},
   "outputs": [
    {
     "data": {
      "text/plain": "               acc reg_position\n0       A0A024B7W1          291\n1       A0A024B7W1          292\n2       A0A024B7W1          293\n3       A0A024B7W1          294\n4       A0A024B7W1          295\n...            ...          ...\n154860      P01015          437\n154861      P01015          438\n154862      P01015          439\n154863      P01015          440\n154864      P01015          441\n\n[154865 rows x 2 columns]",
      "text/html": "<div>\n<style scoped>\n    .dataframe tbody tr th:only-of-type {\n        vertical-align: middle;\n    }\n\n    .dataframe tbody tr th {\n        vertical-align: top;\n    }\n\n    .dataframe thead th {\n        text-align: right;\n    }\n</style>\n<table border=\"1\" class=\"dataframe\">\n  <thead>\n    <tr style=\"text-align: right;\">\n      <th></th>\n      <th>acc</th>\n      <th>reg_position</th>\n    </tr>\n  </thead>\n  <tbody>\n    <tr>\n      <th>0</th>\n      <td>A0A024B7W1</td>\n      <td>291</td>\n    </tr>\n    <tr>\n      <th>1</th>\n      <td>A0A024B7W1</td>\n      <td>292</td>\n    </tr>\n    <tr>\n      <th>2</th>\n      <td>A0A024B7W1</td>\n      <td>293</td>\n    </tr>\n    <tr>\n      <th>3</th>\n      <td>A0A024B7W1</td>\n      <td>294</td>\n    </tr>\n    <tr>\n      <th>4</th>\n      <td>A0A024B7W1</td>\n      <td>295</td>\n    </tr>\n    <tr>\n      <th>...</th>\n      <td>...</td>\n      <td>...</td>\n    </tr>\n    <tr>\n      <th>154860</th>\n      <td>P01015</td>\n      <td>437</td>\n    </tr>\n    <tr>\n      <th>154861</th>\n      <td>P01015</td>\n      <td>438</td>\n    </tr>\n    <tr>\n      <th>154862</th>\n      <td>P01015</td>\n      <td>439</td>\n    </tr>\n    <tr>\n      <th>154863</th>\n      <td>P01015</td>\n      <td>440</td>\n    </tr>\n    <tr>\n      <th>154864</th>\n      <td>P01015</td>\n      <td>441</td>\n    </tr>\n  </tbody>\n</table>\n<p>154865 rows × 2 columns</p>\n</div>"
     },
     "execution_count": 13,
     "metadata": {},
     "output_type": "execute_result"
    }
   ],
   "source": [
    "df_sifts = pd.read_csv(sifts_file, sep=\"\\t\", header=1)\n",
    "# Filter for dataset entries\n",
    "df_sifts = df_sifts.loc[df_sifts['SP_PRIMARY'].isin(df_sequence['acc'])]\n",
    "# Explode observed regions \n",
    "df_sifts = df_sifts.apply(expand_region, start_col=\"SP_BEG\", end_col=\"SP_END\", axis=1)\n",
    "df_sifts = df_sifts.explode(\"reg_position\")\n",
    "df_sifts = df_sifts.loc[:, ['SP_PRIMARY', 'reg_position']].drop_duplicates().reset_index(drop=True).rename(columns={\"SP_PRIMARY\": \"acc\"})\n",
    "df_sifts"
   ]
  },
  {
   "cell_type": "code",
   "execution_count": 14,
   "id": "e99a06b8",
   "metadata": {},
   "outputs": [
    {
     "data": {
      "text/plain": "       disprot_id     acc  pos aa  pdb\n33        DP02342  P06837   34  A  1.0\n34        DP02342  P06837   35  A  1.0\n35        DP02342  P06837   36  T  1.0\n36        DP02342  P06837   37  K  1.0\n37        DP02342  P06837   38  I  1.0\n...           ...     ...  ... ..  ...\n378433    DP02544  Q04410  140  Y  1.0\n378434    DP02544  Q04410  141  I  1.0\n378435    DP02544  Q04410  142  S  1.0\n378436    DP02544  Q04410  143  I  1.0\n378437    DP02544  Q04410  144  I  1.0\n\n[154865 rows x 5 columns]",
      "text/html": "<div>\n<style scoped>\n    .dataframe tbody tr th:only-of-type {\n        vertical-align: middle;\n    }\n\n    .dataframe tbody tr th {\n        vertical-align: top;\n    }\n\n    .dataframe thead th {\n        text-align: right;\n    }\n</style>\n<table border=\"1\" class=\"dataframe\">\n  <thead>\n    <tr style=\"text-align: right;\">\n      <th></th>\n      <th>disprot_id</th>\n      <th>acc</th>\n      <th>pos</th>\n      <th>aa</th>\n      <th>pdb</th>\n    </tr>\n  </thead>\n  <tbody>\n    <tr>\n      <th>33</th>\n      <td>DP02342</td>\n      <td>P06837</td>\n      <td>34</td>\n      <td>A</td>\n      <td>1.0</td>\n    </tr>\n    <tr>\n      <th>34</th>\n      <td>DP02342</td>\n      <td>P06837</td>\n      <td>35</td>\n      <td>A</td>\n      <td>1.0</td>\n    </tr>\n    <tr>\n      <th>35</th>\n      <td>DP02342</td>\n      <td>P06837</td>\n      <td>36</td>\n      <td>T</td>\n      <td>1.0</td>\n    </tr>\n    <tr>\n      <th>36</th>\n      <td>DP02342</td>\n      <td>P06837</td>\n      <td>37</td>\n      <td>K</td>\n      <td>1.0</td>\n    </tr>\n    <tr>\n      <th>37</th>\n      <td>DP02342</td>\n      <td>P06837</td>\n      <td>38</td>\n      <td>I</td>\n      <td>1.0</td>\n    </tr>\n    <tr>\n      <th>...</th>\n      <td>...</td>\n      <td>...</td>\n      <td>...</td>\n      <td>...</td>\n      <td>...</td>\n    </tr>\n    <tr>\n      <th>378433</th>\n      <td>DP02544</td>\n      <td>Q04410</td>\n      <td>140</td>\n      <td>Y</td>\n      <td>1.0</td>\n    </tr>\n    <tr>\n      <th>378434</th>\n      <td>DP02544</td>\n      <td>Q04410</td>\n      <td>141</td>\n      <td>I</td>\n      <td>1.0</td>\n    </tr>\n    <tr>\n      <th>378435</th>\n      <td>DP02544</td>\n      <td>Q04410</td>\n      <td>142</td>\n      <td>S</td>\n      <td>1.0</td>\n    </tr>\n    <tr>\n      <th>378436</th>\n      <td>DP02544</td>\n      <td>Q04410</td>\n      <td>143</td>\n      <td>I</td>\n      <td>1.0</td>\n    </tr>\n    <tr>\n      <th>378437</th>\n      <td>DP02544</td>\n      <td>Q04410</td>\n      <td>144</td>\n      <td>I</td>\n      <td>1.0</td>\n    </tr>\n  </tbody>\n</table>\n<p>154865 rows × 5 columns</p>\n</div>"
     },
     "execution_count": 14,
     "metadata": {},
     "output_type": "execute_result"
    }
   ],
   "source": [
    "df_sequence = pd.merge(df_sequence, df_sifts, left_on=[\"acc\", \"pos\"], right_on=[\"acc\", \"reg_position\"], how=\"left\")\n",
    "df_sequence.rename(columns={\"reg_position\": \"pdb\"}, inplace=True)\n",
    "df_sequence.loc[df_sequence['pdb'].notnull(), 'pdb'] = 1.0\n",
    "df_sequence.loc[df_sequence['pdb'].notnull()]"
   ]
  },
  {
   "cell_type": "markdown",
   "id": "e95438b0",
   "metadata": {},
   "source": [
    "## Define regions\n",
    "\n",
    "Transform the per-protein dataframe into a per-residue dataframe \n"
   ]
  },
  {
   "cell_type": "code",
   "execution_count": 15,
   "id": "f8fe3f49",
   "metadata": {},
   "outputs": [
    {
     "data": {
      "text/plain": "     disprot_id                                       reg_position  \\\n0       DP02342  [1, 2, 3, 4, 5, 6, 7, 8, 9, 10, 11, 12, 13, 14...   \n1       DP02342  [1, 2, 3, 4, 5, 6, 7, 8, 9, 10, 11, 12, 13, 14...   \n2       DP03000  [1, 2, 3, 4, 5, 6, 7, 8, 9, 10, 11, 12, 13, 14...   \n3       DP03000  [1, 2, 3, 4, 5, 6, 7, 8, 9, 10, 11, 12, 13, 14...   \n4       DP03001  [1, 2, 3, 4, 5, 6, 7, 8, 9, 10, 11, 12, 13, 14...   \n...         ...                                                ...   \n1450    DP03708  [1, 2, 3, 4, 5, 6, 7, 8, 9, 10, 11, 12, 13, 14...   \n1451    DP03708  [1, 2, 3, 4, 5, 6, 7, 8, 9, 10, 11, 12, 13, 14...   \n1452    DP03739  [390, 391, 392, 393, 394, 395, 396, 397, 398, ...   \n1453    DP03739  [390, 391, 392, 393, 394, 395, 396, 397, 398, ...   \n1454    DP03773  [2396, 2397, 2398, 2399, 2400, 2401, 2402, 240...   \n\n            ec_id        challenge  \n0     ECO:0006204         disorder  \n1     ECO:0006165         disorder  \n2     ECO:0007680         disorder  \n3     ECO:0006204         disorder  \n4     ECO:0007680         disorder  \n...           ...              ...  \n1450  ECO:0006210          binding  \n1451  ECO:0006210  binding protein  \n1452  ECO:0006165          binding  \n1453  ECO:0006165  binding protein  \n1454  ECO:0006204       transition  \n\n[1455 rows x 4 columns]",
      "text/html": "<div>\n<style scoped>\n    .dataframe tbody tr th:only-of-type {\n        vertical-align: middle;\n    }\n\n    .dataframe tbody tr th {\n        vertical-align: top;\n    }\n\n    .dataframe thead th {\n        text-align: right;\n    }\n</style>\n<table border=\"1\" class=\"dataframe\">\n  <thead>\n    <tr style=\"text-align: right;\">\n      <th></th>\n      <th>disprot_id</th>\n      <th>reg_position</th>\n      <th>ec_id</th>\n      <th>challenge</th>\n    </tr>\n  </thead>\n  <tbody>\n    <tr>\n      <th>0</th>\n      <td>DP02342</td>\n      <td>[1, 2, 3, 4, 5, 6, 7, 8, 9, 10, 11, 12, 13, 14...</td>\n      <td>ECO:0006204</td>\n      <td>disorder</td>\n    </tr>\n    <tr>\n      <th>1</th>\n      <td>DP02342</td>\n      <td>[1, 2, 3, 4, 5, 6, 7, 8, 9, 10, 11, 12, 13, 14...</td>\n      <td>ECO:0006165</td>\n      <td>disorder</td>\n    </tr>\n    <tr>\n      <th>2</th>\n      <td>DP03000</td>\n      <td>[1, 2, 3, 4, 5, 6, 7, 8, 9, 10, 11, 12, 13, 14...</td>\n      <td>ECO:0007680</td>\n      <td>disorder</td>\n    </tr>\n    <tr>\n      <th>3</th>\n      <td>DP03000</td>\n      <td>[1, 2, 3, 4, 5, 6, 7, 8, 9, 10, 11, 12, 13, 14...</td>\n      <td>ECO:0006204</td>\n      <td>disorder</td>\n    </tr>\n    <tr>\n      <th>4</th>\n      <td>DP03001</td>\n      <td>[1, 2, 3, 4, 5, 6, 7, 8, 9, 10, 11, 12, 13, 14...</td>\n      <td>ECO:0007680</td>\n      <td>disorder</td>\n    </tr>\n    <tr>\n      <th>...</th>\n      <td>...</td>\n      <td>...</td>\n      <td>...</td>\n      <td>...</td>\n    </tr>\n    <tr>\n      <th>1450</th>\n      <td>DP03708</td>\n      <td>[1, 2, 3, 4, 5, 6, 7, 8, 9, 10, 11, 12, 13, 14...</td>\n      <td>ECO:0006210</td>\n      <td>binding</td>\n    </tr>\n    <tr>\n      <th>1451</th>\n      <td>DP03708</td>\n      <td>[1, 2, 3, 4, 5, 6, 7, 8, 9, 10, 11, 12, 13, 14...</td>\n      <td>ECO:0006210</td>\n      <td>binding protein</td>\n    </tr>\n    <tr>\n      <th>1452</th>\n      <td>DP03739</td>\n      <td>[390, 391, 392, 393, 394, 395, 396, 397, 398, ...</td>\n      <td>ECO:0006165</td>\n      <td>binding</td>\n    </tr>\n    <tr>\n      <th>1453</th>\n      <td>DP03739</td>\n      <td>[390, 391, 392, 393, 394, 395, 396, 397, 398, ...</td>\n      <td>ECO:0006165</td>\n      <td>binding protein</td>\n    </tr>\n    <tr>\n      <th>1454</th>\n      <td>DP03773</td>\n      <td>[2396, 2397, 2398, 2399, 2400, 2401, 2402, 240...</td>\n      <td>ECO:0006204</td>\n      <td>transition</td>\n    </tr>\n  </tbody>\n</table>\n<p>1455 rows × 4 columns</p>\n</div>"
     },
     "execution_count": 15,
     "metadata": {},
     "output_type": "execute_result"
    }
   ],
   "source": [
    "df_regions = df.apply(expand_region, axis=1).loc[:, [\"disprot_id\", \"reg_position\", \"ec_id\", \"challenge\"]].copy(deep=True)\n",
    "# df_regions = pd.merge(left=df_regions, right=df_challenge, how=\"inner\", left_on=\"term_id\", right_on=\"term_id\").drop(columns=[\"term_id\"])\n",
    "df_regions"
   ]
  },
  {
   "cell_type": "code",
   "execution_count": 16,
   "id": "6ca05a40",
   "metadata": {},
   "outputs": [
    {
     "name": "stderr",
     "output_type": "stream",
     "text": [
      "/tmp/ipykernel_1374718/4122167737.py:3: SettingWithCopyWarning: \n",
      "A value is trying to be set on a copy of a slice from a DataFrame.\n",
      "Try using .loc[row_indexer,col_indexer] = value instead\n",
      "\n",
      "See the caveats in the documentation: https://pandas.pydata.org/pandas-docs/stable/user_guide/indexing.html#returning-a-view-versus-a-copy\n",
      "  df_.loc[:, 'challenge'] = 'disorder_nox'\n"
     ]
    },
    {
     "data": {
      "text/plain": "     disprot_id                                       reg_position  \\\n0       DP02342  [1, 2, 3, 4, 5, 6, 7, 8, 9, 10, 11, 12, 13, 14...   \n1       DP02342  [1, 2, 3, 4, 5, 6, 7, 8, 9, 10, 11, 12, 13, 14...   \n2       DP03000  [1, 2, 3, 4, 5, 6, 7, 8, 9, 10, 11, 12, 13, 14...   \n3       DP03000  [1, 2, 3, 4, 5, 6, 7, 8, 9, 10, 11, 12, 13, 14...   \n4       DP03001  [1, 2, 3, 4, 5, 6, 7, 8, 9, 10, 11, 12, 13, 14...   \n...         ...                                                ...   \n1361    DP02544  [1, 2, 3, 4, 5, 6, 7, 8, 9, 10, 11, 12, 13, 14...   \n1362    DP02544  [1, 2, 3, 4, 5, 6, 7, 8, 9, 10, 11, 12, 13, 14...   \n1363    DP02544  [1, 2, 3, 4, 5, 6, 7, 8, 9, 10, 11, 12, 13, 14...   \n1364    DP03507  [1146, 1147, 1148, 1149, 1150, 1151, 1152, 115...   \n1365    DP03507  [1146, 1147, 1148, 1149, 1150, 1151, 1152, 115...   \n\n            ec_id     challenge  \n0     ECO:0006204      disorder  \n1     ECO:0006165      disorder  \n2     ECO:0007680      disorder  \n3     ECO:0006204      disorder  \n4     ECO:0007680      disorder  \n...           ...           ...  \n1361  ECO:0007689  disorder_nox  \n1362  ECO:0007680  disorder_nox  \n1363  ECO:0006204  disorder_nox  \n1364  ECO:0006204  disorder_nox  \n1365  ECO:0007689  disorder_nox  \n\n[2009 rows x 4 columns]",
      "text/html": "<div>\n<style scoped>\n    .dataframe tbody tr th:only-of-type {\n        vertical-align: middle;\n    }\n\n    .dataframe tbody tr th {\n        vertical-align: top;\n    }\n\n    .dataframe thead th {\n        text-align: right;\n    }\n</style>\n<table border=\"1\" class=\"dataframe\">\n  <thead>\n    <tr style=\"text-align: right;\">\n      <th></th>\n      <th>disprot_id</th>\n      <th>reg_position</th>\n      <th>ec_id</th>\n      <th>challenge</th>\n    </tr>\n  </thead>\n  <tbody>\n    <tr>\n      <th>0</th>\n      <td>DP02342</td>\n      <td>[1, 2, 3, 4, 5, 6, 7, 8, 9, 10, 11, 12, 13, 14...</td>\n      <td>ECO:0006204</td>\n      <td>disorder</td>\n    </tr>\n    <tr>\n      <th>1</th>\n      <td>DP02342</td>\n      <td>[1, 2, 3, 4, 5, 6, 7, 8, 9, 10, 11, 12, 13, 14...</td>\n      <td>ECO:0006165</td>\n      <td>disorder</td>\n    </tr>\n    <tr>\n      <th>2</th>\n      <td>DP03000</td>\n      <td>[1, 2, 3, 4, 5, 6, 7, 8, 9, 10, 11, 12, 13, 14...</td>\n      <td>ECO:0007680</td>\n      <td>disorder</td>\n    </tr>\n    <tr>\n      <th>3</th>\n      <td>DP03000</td>\n      <td>[1, 2, 3, 4, 5, 6, 7, 8, 9, 10, 11, 12, 13, 14...</td>\n      <td>ECO:0006204</td>\n      <td>disorder</td>\n    </tr>\n    <tr>\n      <th>4</th>\n      <td>DP03001</td>\n      <td>[1, 2, 3, 4, 5, 6, 7, 8, 9, 10, 11, 12, 13, 14...</td>\n      <td>ECO:0007680</td>\n      <td>disorder</td>\n    </tr>\n    <tr>\n      <th>...</th>\n      <td>...</td>\n      <td>...</td>\n      <td>...</td>\n      <td>...</td>\n    </tr>\n    <tr>\n      <th>1361</th>\n      <td>DP02544</td>\n      <td>[1, 2, 3, 4, 5, 6, 7, 8, 9, 10, 11, 12, 13, 14...</td>\n      <td>ECO:0007689</td>\n      <td>disorder_nox</td>\n    </tr>\n    <tr>\n      <th>1362</th>\n      <td>DP02544</td>\n      <td>[1, 2, 3, 4, 5, 6, 7, 8, 9, 10, 11, 12, 13, 14...</td>\n      <td>ECO:0007680</td>\n      <td>disorder_nox</td>\n    </tr>\n    <tr>\n      <th>1363</th>\n      <td>DP02544</td>\n      <td>[1, 2, 3, 4, 5, 6, 7, 8, 9, 10, 11, 12, 13, 14...</td>\n      <td>ECO:0006204</td>\n      <td>disorder_nox</td>\n    </tr>\n    <tr>\n      <th>1364</th>\n      <td>DP03507</td>\n      <td>[1146, 1147, 1148, 1149, 1150, 1151, 1152, 115...</td>\n      <td>ECO:0006204</td>\n      <td>disorder_nox</td>\n    </tr>\n    <tr>\n      <th>1365</th>\n      <td>DP03507</td>\n      <td>[1146, 1147, 1148, 1149, 1150, 1151, 1152, 115...</td>\n      <td>ECO:0007689</td>\n      <td>disorder_nox</td>\n    </tr>\n  </tbody>\n</table>\n<p>2009 rows × 4 columns</p>\n</div>"
     },
     "execution_count": 16,
     "metadata": {},
     "output_type": "execute_result"
    }
   ],
   "source": [
    "# ECO:0006220, X-ray crystallography-based structural model with missing residue coordinates used in manual assertion  \n",
    "df_ = df_regions.loc[(df_regions['challenge'] == 'disorder') & (df_regions['ec_id'] != 'ECO:0006220')]\n",
    "df_.loc[:, 'challenge'] = 'disorder_nox'\n",
    "df_regions = pd.concat([df_regions, df_])\n",
    "df_regions"
   ]
  },
  {
   "cell_type": "code",
   "execution_count": 17,
   "id": "04e87534",
   "metadata": {},
   "outputs": [
    {
     "data": {
      "text/plain": "     disprot_id reg_position     challenge  has_region\n0       DP02342            1      disorder           1\n0       DP02342            2      disorder           1\n0       DP02342            3      disorder           1\n0       DP02342            4      disorder           1\n0       DP02342            5      disorder           1\n...         ...          ...           ...         ...\n1364    DP03507         1908  disorder_nox           1\n1364    DP03507         1909  disorder_nox           1\n1364    DP03507         1910  disorder_nox           1\n1364    DP03507         1911  disorder_nox           1\n1364    DP03507         1912  disorder_nox           1\n\n[111618 rows x 4 columns]",
      "text/html": "<div>\n<style scoped>\n    .dataframe tbody tr th:only-of-type {\n        vertical-align: middle;\n    }\n\n    .dataframe tbody tr th {\n        vertical-align: top;\n    }\n\n    .dataframe thead th {\n        text-align: right;\n    }\n</style>\n<table border=\"1\" class=\"dataframe\">\n  <thead>\n    <tr style=\"text-align: right;\">\n      <th></th>\n      <th>disprot_id</th>\n      <th>reg_position</th>\n      <th>challenge</th>\n      <th>has_region</th>\n    </tr>\n  </thead>\n  <tbody>\n    <tr>\n      <th>0</th>\n      <td>DP02342</td>\n      <td>1</td>\n      <td>disorder</td>\n      <td>1</td>\n    </tr>\n    <tr>\n      <th>0</th>\n      <td>DP02342</td>\n      <td>2</td>\n      <td>disorder</td>\n      <td>1</td>\n    </tr>\n    <tr>\n      <th>0</th>\n      <td>DP02342</td>\n      <td>3</td>\n      <td>disorder</td>\n      <td>1</td>\n    </tr>\n    <tr>\n      <th>0</th>\n      <td>DP02342</td>\n      <td>4</td>\n      <td>disorder</td>\n      <td>1</td>\n    </tr>\n    <tr>\n      <th>0</th>\n      <td>DP02342</td>\n      <td>5</td>\n      <td>disorder</td>\n      <td>1</td>\n    </tr>\n    <tr>\n      <th>...</th>\n      <td>...</td>\n      <td>...</td>\n      <td>...</td>\n      <td>...</td>\n    </tr>\n    <tr>\n      <th>1364</th>\n      <td>DP03507</td>\n      <td>1908</td>\n      <td>disorder_nox</td>\n      <td>1</td>\n    </tr>\n    <tr>\n      <th>1364</th>\n      <td>DP03507</td>\n      <td>1909</td>\n      <td>disorder_nox</td>\n      <td>1</td>\n    </tr>\n    <tr>\n      <th>1364</th>\n      <td>DP03507</td>\n      <td>1910</td>\n      <td>disorder_nox</td>\n      <td>1</td>\n    </tr>\n    <tr>\n      <th>1364</th>\n      <td>DP03507</td>\n      <td>1911</td>\n      <td>disorder_nox</td>\n      <td>1</td>\n    </tr>\n    <tr>\n      <th>1364</th>\n      <td>DP03507</td>\n      <td>1912</td>\n      <td>disorder_nox</td>\n      <td>1</td>\n    </tr>\n  </tbody>\n</table>\n<p>111618 rows × 4 columns</p>\n</div>"
     },
     "execution_count": 17,
     "metadata": {},
     "output_type": "execute_result"
    }
   ],
   "source": [
    "df_regions_all = df_regions.drop(columns=['ec_id']).explode(\"reg_position\").drop_duplicates()\n",
    "df_regions_all['has_region'] = 1\n",
    "df_regions_all"
   ]
  },
  {
   "cell_type": "code",
   "execution_count": 18,
   "id": "8d041721",
   "metadata": {},
   "outputs": [
    {
     "data": {
      "text/plain": "challenge disprot_id  reg_position  binding  binding nucleic acid  \\\n0            DP02342             1      NaN                   NaN   \n1            DP02342             2      NaN                   NaN   \n2            DP02342             3      NaN                   NaN   \n3            DP02342             4      NaN                   NaN   \n4            DP02342             5      NaN                   NaN   \n...              ...           ...      ...                   ...   \n49282        DP03906           178      NaN                   NaN   \n49283        DP03906           179      NaN                   NaN   \n49284        DP03906           180      NaN                   NaN   \n49285        DP03906           181      NaN                   NaN   \n49286        DP03906           182      NaN                   NaN   \n\nchallenge  binding protein  disorder  disorder_nox  linker  transition  \n0                      NaN       1.0           1.0     NaN         NaN  \n1                      NaN       1.0           1.0     NaN         NaN  \n2                      NaN       1.0           1.0     NaN         NaN  \n3                      NaN       1.0           1.0     NaN         NaN  \n4                      NaN       1.0           1.0     NaN         NaN  \n...                    ...       ...           ...     ...         ...  \n49282                  NaN       1.0           1.0     NaN         NaN  \n49283                  NaN       1.0           1.0     NaN         NaN  \n49284                  NaN       1.0           1.0     NaN         NaN  \n49285                  NaN       1.0           1.0     NaN         NaN  \n49286                  NaN       1.0           1.0     NaN         NaN  \n\n[49287 rows x 9 columns]",
      "text/html": "<div>\n<style scoped>\n    .dataframe tbody tr th:only-of-type {\n        vertical-align: middle;\n    }\n\n    .dataframe tbody tr th {\n        vertical-align: top;\n    }\n\n    .dataframe thead th {\n        text-align: right;\n    }\n</style>\n<table border=\"1\" class=\"dataframe\">\n  <thead>\n    <tr style=\"text-align: right;\">\n      <th>challenge</th>\n      <th>disprot_id</th>\n      <th>reg_position</th>\n      <th>binding</th>\n      <th>binding nucleic acid</th>\n      <th>binding protein</th>\n      <th>disorder</th>\n      <th>disorder_nox</th>\n      <th>linker</th>\n      <th>transition</th>\n    </tr>\n  </thead>\n  <tbody>\n    <tr>\n      <th>0</th>\n      <td>DP02342</td>\n      <td>1</td>\n      <td>NaN</td>\n      <td>NaN</td>\n      <td>NaN</td>\n      <td>1.0</td>\n      <td>1.0</td>\n      <td>NaN</td>\n      <td>NaN</td>\n    </tr>\n    <tr>\n      <th>1</th>\n      <td>DP02342</td>\n      <td>2</td>\n      <td>NaN</td>\n      <td>NaN</td>\n      <td>NaN</td>\n      <td>1.0</td>\n      <td>1.0</td>\n      <td>NaN</td>\n      <td>NaN</td>\n    </tr>\n    <tr>\n      <th>2</th>\n      <td>DP02342</td>\n      <td>3</td>\n      <td>NaN</td>\n      <td>NaN</td>\n      <td>NaN</td>\n      <td>1.0</td>\n      <td>1.0</td>\n      <td>NaN</td>\n      <td>NaN</td>\n    </tr>\n    <tr>\n      <th>3</th>\n      <td>DP02342</td>\n      <td>4</td>\n      <td>NaN</td>\n      <td>NaN</td>\n      <td>NaN</td>\n      <td>1.0</td>\n      <td>1.0</td>\n      <td>NaN</td>\n      <td>NaN</td>\n    </tr>\n    <tr>\n      <th>4</th>\n      <td>DP02342</td>\n      <td>5</td>\n      <td>NaN</td>\n      <td>NaN</td>\n      <td>NaN</td>\n      <td>1.0</td>\n      <td>1.0</td>\n      <td>NaN</td>\n      <td>NaN</td>\n    </tr>\n    <tr>\n      <th>...</th>\n      <td>...</td>\n      <td>...</td>\n      <td>...</td>\n      <td>...</td>\n      <td>...</td>\n      <td>...</td>\n      <td>...</td>\n      <td>...</td>\n      <td>...</td>\n    </tr>\n    <tr>\n      <th>49282</th>\n      <td>DP03906</td>\n      <td>178</td>\n      <td>NaN</td>\n      <td>NaN</td>\n      <td>NaN</td>\n      <td>1.0</td>\n      <td>1.0</td>\n      <td>NaN</td>\n      <td>NaN</td>\n    </tr>\n    <tr>\n      <th>49283</th>\n      <td>DP03906</td>\n      <td>179</td>\n      <td>NaN</td>\n      <td>NaN</td>\n      <td>NaN</td>\n      <td>1.0</td>\n      <td>1.0</td>\n      <td>NaN</td>\n      <td>NaN</td>\n    </tr>\n    <tr>\n      <th>49284</th>\n      <td>DP03906</td>\n      <td>180</td>\n      <td>NaN</td>\n      <td>NaN</td>\n      <td>NaN</td>\n      <td>1.0</td>\n      <td>1.0</td>\n      <td>NaN</td>\n      <td>NaN</td>\n    </tr>\n    <tr>\n      <th>49285</th>\n      <td>DP03906</td>\n      <td>181</td>\n      <td>NaN</td>\n      <td>NaN</td>\n      <td>NaN</td>\n      <td>1.0</td>\n      <td>1.0</td>\n      <td>NaN</td>\n      <td>NaN</td>\n    </tr>\n    <tr>\n      <th>49286</th>\n      <td>DP03906</td>\n      <td>182</td>\n      <td>NaN</td>\n      <td>NaN</td>\n      <td>NaN</td>\n      <td>1.0</td>\n      <td>1.0</td>\n      <td>NaN</td>\n      <td>NaN</td>\n    </tr>\n  </tbody>\n</table>\n<p>49287 rows × 9 columns</p>\n</div>"
     },
     "execution_count": 18,
     "metadata": {},
     "output_type": "execute_result"
    }
   ],
   "source": [
    "# Create the pivot table. Transpose challenge values into columns \n",
    "df_regions_all = pd.pivot_table(\n",
    "    df_regions_all,\n",
    "    columns=\"challenge\",\n",
    "    index=['disprot_id', 'reg_position'],\n",
    "    values='has_region')\n",
    "df_regions_all = df_regions_all.reset_index()\n",
    "df_regions_all"
   ]
  },
  {
   "cell_type": "code",
   "execution_count": 19,
   "id": "9e01af92",
   "metadata": {},
   "outputs": [
    {
     "data": {
      "text/plain": "       disprot_id  binding  binding nucleic acid  binding protein  disorder  \\\n0         DP02342      NaN                   NaN              NaN       1.0   \n1         DP02342      NaN                   NaN              NaN       1.0   \n2         DP02342      NaN                   NaN              NaN       1.0   \n3         DP02342      NaN                   NaN              NaN       1.0   \n4         DP02342      NaN                   NaN              NaN       1.0   \n...           ...      ...                   ...              ...       ...   \n378661    DP02544      NaN                   NaN              NaN       1.0   \n378662    DP02544      NaN                   NaN              NaN       1.0   \n378663    DP02544      NaN                   NaN              NaN       1.0   \n378664    DP02544      NaN                   NaN              NaN       1.0   \n378665    DP02544      NaN                   NaN              NaN       1.0   \n\n        disorder_nox  linker  transition     acc  pos aa  pdb  \n0                1.0     NaN         NaN  P06837    1  M  NaN  \n1                1.0     NaN         NaN  P06837    2  L  NaN  \n2                1.0     NaN         NaN  P06837    3  C  NaN  \n3                1.0     NaN         NaN  P06837    4  C  NaN  \n4                1.0     NaN         NaN  P06837    5  M  NaN  \n...              ...     ...         ...     ...  ... ..  ...  \n378661           1.0     NaN         NaN  Q04410  368  Q  NaN  \n378662           1.0     NaN         NaN  Q04410  369  S  NaN  \n378663           1.0     NaN         NaN  Q04410  370  S  NaN  \n378664           1.0     NaN         NaN  Q04410  371  S  NaN  \n378665           1.0     NaN         NaN  Q04410  372  D  NaN  \n\n[378666 rows x 12 columns]",
      "text/html": "<div>\n<style scoped>\n    .dataframe tbody tr th:only-of-type {\n        vertical-align: middle;\n    }\n\n    .dataframe tbody tr th {\n        vertical-align: top;\n    }\n\n    .dataframe thead th {\n        text-align: right;\n    }\n</style>\n<table border=\"1\" class=\"dataframe\">\n  <thead>\n    <tr style=\"text-align: right;\">\n      <th></th>\n      <th>disprot_id</th>\n      <th>binding</th>\n      <th>binding nucleic acid</th>\n      <th>binding protein</th>\n      <th>disorder</th>\n      <th>disorder_nox</th>\n      <th>linker</th>\n      <th>transition</th>\n      <th>acc</th>\n      <th>pos</th>\n      <th>aa</th>\n      <th>pdb</th>\n    </tr>\n  </thead>\n  <tbody>\n    <tr>\n      <th>0</th>\n      <td>DP02342</td>\n      <td>NaN</td>\n      <td>NaN</td>\n      <td>NaN</td>\n      <td>1.0</td>\n      <td>1.0</td>\n      <td>NaN</td>\n      <td>NaN</td>\n      <td>P06837</td>\n      <td>1</td>\n      <td>M</td>\n      <td>NaN</td>\n    </tr>\n    <tr>\n      <th>1</th>\n      <td>DP02342</td>\n      <td>NaN</td>\n      <td>NaN</td>\n      <td>NaN</td>\n      <td>1.0</td>\n      <td>1.0</td>\n      <td>NaN</td>\n      <td>NaN</td>\n      <td>P06837</td>\n      <td>2</td>\n      <td>L</td>\n      <td>NaN</td>\n    </tr>\n    <tr>\n      <th>2</th>\n      <td>DP02342</td>\n      <td>NaN</td>\n      <td>NaN</td>\n      <td>NaN</td>\n      <td>1.0</td>\n      <td>1.0</td>\n      <td>NaN</td>\n      <td>NaN</td>\n      <td>P06837</td>\n      <td>3</td>\n      <td>C</td>\n      <td>NaN</td>\n    </tr>\n    <tr>\n      <th>3</th>\n      <td>DP02342</td>\n      <td>NaN</td>\n      <td>NaN</td>\n      <td>NaN</td>\n      <td>1.0</td>\n      <td>1.0</td>\n      <td>NaN</td>\n      <td>NaN</td>\n      <td>P06837</td>\n      <td>4</td>\n      <td>C</td>\n      <td>NaN</td>\n    </tr>\n    <tr>\n      <th>4</th>\n      <td>DP02342</td>\n      <td>NaN</td>\n      <td>NaN</td>\n      <td>NaN</td>\n      <td>1.0</td>\n      <td>1.0</td>\n      <td>NaN</td>\n      <td>NaN</td>\n      <td>P06837</td>\n      <td>5</td>\n      <td>M</td>\n      <td>NaN</td>\n    </tr>\n    <tr>\n      <th>...</th>\n      <td>...</td>\n      <td>...</td>\n      <td>...</td>\n      <td>...</td>\n      <td>...</td>\n      <td>...</td>\n      <td>...</td>\n      <td>...</td>\n      <td>...</td>\n      <td>...</td>\n      <td>...</td>\n      <td>...</td>\n    </tr>\n    <tr>\n      <th>378661</th>\n      <td>DP02544</td>\n      <td>NaN</td>\n      <td>NaN</td>\n      <td>NaN</td>\n      <td>1.0</td>\n      <td>1.0</td>\n      <td>NaN</td>\n      <td>NaN</td>\n      <td>Q04410</td>\n      <td>368</td>\n      <td>Q</td>\n      <td>NaN</td>\n    </tr>\n    <tr>\n      <th>378662</th>\n      <td>DP02544</td>\n      <td>NaN</td>\n      <td>NaN</td>\n      <td>NaN</td>\n      <td>1.0</td>\n      <td>1.0</td>\n      <td>NaN</td>\n      <td>NaN</td>\n      <td>Q04410</td>\n      <td>369</td>\n      <td>S</td>\n      <td>NaN</td>\n    </tr>\n    <tr>\n      <th>378663</th>\n      <td>DP02544</td>\n      <td>NaN</td>\n      <td>NaN</td>\n      <td>NaN</td>\n      <td>1.0</td>\n      <td>1.0</td>\n      <td>NaN</td>\n      <td>NaN</td>\n      <td>Q04410</td>\n      <td>370</td>\n      <td>S</td>\n      <td>NaN</td>\n    </tr>\n    <tr>\n      <th>378664</th>\n      <td>DP02544</td>\n      <td>NaN</td>\n      <td>NaN</td>\n      <td>NaN</td>\n      <td>1.0</td>\n      <td>1.0</td>\n      <td>NaN</td>\n      <td>NaN</td>\n      <td>Q04410</td>\n      <td>371</td>\n      <td>S</td>\n      <td>NaN</td>\n    </tr>\n    <tr>\n      <th>378665</th>\n      <td>DP02544</td>\n      <td>NaN</td>\n      <td>NaN</td>\n      <td>NaN</td>\n      <td>1.0</td>\n      <td>1.0</td>\n      <td>NaN</td>\n      <td>NaN</td>\n      <td>Q04410</td>\n      <td>372</td>\n      <td>D</td>\n      <td>NaN</td>\n    </tr>\n  </tbody>\n</table>\n<p>378666 rows × 12 columns</p>\n</div>"
     },
     "execution_count": 19,
     "metadata": {},
     "output_type": "execute_result"
    }
   ],
   "source": [
    "# Add sequence positions not mapping to any DisProt region\n",
    "df_regions_all = pd.merge(left=df_regions_all, right=df_sequence, how=\"right\", left_on=[\"disprot_id\", \"reg_position\"], right_on=[\"disprot_id\", \"pos\"])\n",
    "df_regions_all.drop(columns=\"reg_position\", inplace=True)\n",
    "df_regions_all"
   ]
  },
  {
   "cell_type": "markdown",
   "id": "eef3db36",
   "metadata": {},
   "source": [
    "## Write files\n",
    "\n",
    "Challenge definitions\n",
    "\n",
    "- The first list are the columns to be considered as positive (any)\n",
    "- The second list (mask) are the columns to be considered as negative (any)\n",
    "- If the second list is not provided all non-positives are considered negatives\n",
    "- In case of conflicts, the positives always overwrite the negatives\n",
    "- If mask is provided proteins without at least one residue that could be masked (even when overwritten by a positive) are excluded (e.g. only proteins with PDB observed residues are considered) \n"
   ]
  },
  {
   "cell_type": "code",
   "execution_count": 21,
   "id": "804f17c1",
   "metadata": {},
   "outputs": [
    {
     "data": {
      "text/plain": "       disprot_id     acc  pos aa  disorder  linker  transition  \\\n0         DP02342  P06837    1  M       1.0     NaN         NaN   \n1         DP02342  P06837    2  L       1.0     NaN         NaN   \n2         DP02342  P06837    3  C       1.0     NaN         NaN   \n3         DP02342  P06837    4  C       1.0     NaN         NaN   \n4         DP02342  P06837    5  M       1.0     NaN         NaN   \n...           ...     ...  ... ..       ...     ...         ...   \n378661    DP02544  Q04410  368  Q       1.0     NaN         NaN   \n378662    DP02544  Q04410  369  S       1.0     NaN         NaN   \n378663    DP02544  Q04410  370  S       1.0     NaN         NaN   \n378664    DP02544  Q04410  371  S       1.0     NaN         NaN   \n378665    DP02544  Q04410  372  D       1.0     NaN         NaN   \n\n        binding nucleic acid  binding  binding protein  disorder_nox  pdb  \n0                        NaN      NaN              NaN           1.0  NaN  \n1                        NaN      NaN              NaN           1.0  NaN  \n2                        NaN      NaN              NaN           1.0  NaN  \n3                        NaN      NaN              NaN           1.0  NaN  \n4                        NaN      NaN              NaN           1.0  NaN  \n...                      ...      ...              ...           ...  ...  \n378661                   NaN      NaN              NaN           1.0  NaN  \n378662                   NaN      NaN              NaN           1.0  NaN  \n378663                   NaN      NaN              NaN           1.0  NaN  \n378664                   NaN      NaN              NaN           1.0  NaN  \n378665                   NaN      NaN              NaN           1.0  NaN  \n\n[378666 rows x 12 columns]",
      "text/html": "<div>\n<style scoped>\n    .dataframe tbody tr th:only-of-type {\n        vertical-align: middle;\n    }\n\n    .dataframe tbody tr th {\n        vertical-align: top;\n    }\n\n    .dataframe thead th {\n        text-align: right;\n    }\n</style>\n<table border=\"1\" class=\"dataframe\">\n  <thead>\n    <tr style=\"text-align: right;\">\n      <th></th>\n      <th>disprot_id</th>\n      <th>acc</th>\n      <th>pos</th>\n      <th>aa</th>\n      <th>disorder</th>\n      <th>linker</th>\n      <th>transition</th>\n      <th>binding nucleic acid</th>\n      <th>binding</th>\n      <th>binding protein</th>\n      <th>disorder_nox</th>\n      <th>pdb</th>\n    </tr>\n  </thead>\n  <tbody>\n    <tr>\n      <th>0</th>\n      <td>DP02342</td>\n      <td>P06837</td>\n      <td>1</td>\n      <td>M</td>\n      <td>1.0</td>\n      <td>NaN</td>\n      <td>NaN</td>\n      <td>NaN</td>\n      <td>NaN</td>\n      <td>NaN</td>\n      <td>1.0</td>\n      <td>NaN</td>\n    </tr>\n    <tr>\n      <th>1</th>\n      <td>DP02342</td>\n      <td>P06837</td>\n      <td>2</td>\n      <td>L</td>\n      <td>1.0</td>\n      <td>NaN</td>\n      <td>NaN</td>\n      <td>NaN</td>\n      <td>NaN</td>\n      <td>NaN</td>\n      <td>1.0</td>\n      <td>NaN</td>\n    </tr>\n    <tr>\n      <th>2</th>\n      <td>DP02342</td>\n      <td>P06837</td>\n      <td>3</td>\n      <td>C</td>\n      <td>1.0</td>\n      <td>NaN</td>\n      <td>NaN</td>\n      <td>NaN</td>\n      <td>NaN</td>\n      <td>NaN</td>\n      <td>1.0</td>\n      <td>NaN</td>\n    </tr>\n    <tr>\n      <th>3</th>\n      <td>DP02342</td>\n      <td>P06837</td>\n      <td>4</td>\n      <td>C</td>\n      <td>1.0</td>\n      <td>NaN</td>\n      <td>NaN</td>\n      <td>NaN</td>\n      <td>NaN</td>\n      <td>NaN</td>\n      <td>1.0</td>\n      <td>NaN</td>\n    </tr>\n    <tr>\n      <th>4</th>\n      <td>DP02342</td>\n      <td>P06837</td>\n      <td>5</td>\n      <td>M</td>\n      <td>1.0</td>\n      <td>NaN</td>\n      <td>NaN</td>\n      <td>NaN</td>\n      <td>NaN</td>\n      <td>NaN</td>\n      <td>1.0</td>\n      <td>NaN</td>\n    </tr>\n    <tr>\n      <th>...</th>\n      <td>...</td>\n      <td>...</td>\n      <td>...</td>\n      <td>...</td>\n      <td>...</td>\n      <td>...</td>\n      <td>...</td>\n      <td>...</td>\n      <td>...</td>\n      <td>...</td>\n      <td>...</td>\n      <td>...</td>\n    </tr>\n    <tr>\n      <th>378661</th>\n      <td>DP02544</td>\n      <td>Q04410</td>\n      <td>368</td>\n      <td>Q</td>\n      <td>1.0</td>\n      <td>NaN</td>\n      <td>NaN</td>\n      <td>NaN</td>\n      <td>NaN</td>\n      <td>NaN</td>\n      <td>1.0</td>\n      <td>NaN</td>\n    </tr>\n    <tr>\n      <th>378662</th>\n      <td>DP02544</td>\n      <td>Q04410</td>\n      <td>369</td>\n      <td>S</td>\n      <td>1.0</td>\n      <td>NaN</td>\n      <td>NaN</td>\n      <td>NaN</td>\n      <td>NaN</td>\n      <td>NaN</td>\n      <td>1.0</td>\n      <td>NaN</td>\n    </tr>\n    <tr>\n      <th>378663</th>\n      <td>DP02544</td>\n      <td>Q04410</td>\n      <td>370</td>\n      <td>S</td>\n      <td>1.0</td>\n      <td>NaN</td>\n      <td>NaN</td>\n      <td>NaN</td>\n      <td>NaN</td>\n      <td>NaN</td>\n      <td>1.0</td>\n      <td>NaN</td>\n    </tr>\n    <tr>\n      <th>378664</th>\n      <td>DP02544</td>\n      <td>Q04410</td>\n      <td>371</td>\n      <td>S</td>\n      <td>1.0</td>\n      <td>NaN</td>\n      <td>NaN</td>\n      <td>NaN</td>\n      <td>NaN</td>\n      <td>NaN</td>\n      <td>1.0</td>\n      <td>NaN</td>\n    </tr>\n    <tr>\n      <th>378665</th>\n      <td>DP02544</td>\n      <td>Q04410</td>\n      <td>372</td>\n      <td>D</td>\n      <td>1.0</td>\n      <td>NaN</td>\n      <td>NaN</td>\n      <td>NaN</td>\n      <td>NaN</td>\n      <td>NaN</td>\n      <td>1.0</td>\n      <td>NaN</td>\n    </tr>\n  </tbody>\n</table>\n<p>378666 rows × 12 columns</p>\n</div>"
     },
     "execution_count": 21,
     "metadata": {},
     "output_type": "execute_result"
    }
   ],
   "source": [
    "# Reorder the columns\n",
    "head_cols = ['disprot_id', 'acc', 'pos', 'aa']\n",
    "disprot_cols = list(df_challenge['challenge'].unique())\n",
    "other_cols = sorted(list((set(df_regions_all.columns.tolist()) - set(head_cols)) - set(disprot_cols)))\n",
    "cols = head_cols + disprot_cols + other_cols\n",
    "df_regions_all = df_regions_all[cols]\n",
    "df_regions_all"
   ]
  },
  {
   "cell_type": "code",
   "execution_count": 22,
   "id": "178c5d22",
   "metadata": {},
   "outputs": [],
   "source": [
    "# Write the dataframe\n",
    "df_regions_all.to_csv(dataset_file, sep=\"\\t\", index=False)"
   ]
  },
  {
   "cell_type": "markdown",
   "id": "d4b8ffa5",
   "metadata": {},
   "source": [
    "### Write references (Fasta format)\n",
    "\n",
    "* The next element overwrites the previous in the \"class\" list\n",
    "* The \"fill\" field is used to fill unassigned positions\n",
    "* Only proteins with at least a \"1\" are written to file"
   ]
  },
  {
   "cell_type": "code",
   "execution_count": 23,
   "id": "acef5c85",
   "metadata": {},
   "outputs": [],
   "source": [
    "challenges = {'linker': {'class': [('linker', '1')], 'fill': '0'}, \n",
    "              'linker_disorder': {'class': [('disorder', '0'), ('linker', '1')], 'fill': '-'},\n",
    "              'disorder': {'class': [('disorder', '1')], 'fill': '0'}, \n",
    "              'disorder_nox': {'class': [('disorder_nox', '1')], 'fill': '0'}, \n",
    "              'disorder_pdb': {'class': [('pdb', '0'), ('disorder', '1')], 'fill': '-'},\n",
    "              'disorder_pdb_fill': {'class': [('pdb', '0'), ('disorder', '1')], 'fill': '1'},\n",
    "              'binding': {'class': [('binding', '1')], 'fill': '0'},\n",
    "              'binding_nucleic_acid': {'class': [('binding nucleic acid', '1')], 'fill': '0'},\n",
    "              'binding_disorder': {'class': [('disorder', '0'), ('binding', '1')], 'fill': '-'},\n",
    "             }\n",
    "\n",
    "for file_name, challenge in challenges.items():\n",
    "    with open(\"{}/{}.fasta\".format(references_dir, file_name), \"w\") as fout:\n",
    "        for disprot_id, df_g in df_regions_all.groupby('disprot_id'):\n",
    "            df_g['output'] = np.nan\n",
    "            # Assign class\n",
    "            for column, value in challenge['class']:\n",
    "                df_g.loc[df_g[column].notnull(), 'output'] = value\n",
    "            # Fill\n",
    "            if df_g['output'].notnull().any() and challenge.get('fill'):\n",
    "                df_g.loc[df_g['output'].isnull(), 'output'] = challenge['fill'] \n",
    "            # Write proteins with at least one positive assignment\n",
    "            if (df_g['output'] == '1').any():\n",
    "                fout.write(\">{}\\n{}\\n{}\\n\".format(disprot_id, \"\".join(df_g['aa']), \"\".join(df_g['output'])))\n"
   ]
  }
 ],
 "metadata": {
  "kernelspec": {
   "display_name": "Python 3 (ipykernel)",
   "language": "python",
   "name": "python3"
  },
  "language_info": {
   "codemirror_mode": {
    "name": "ipython",
    "version": 3
   },
   "file_extension": ".py",
   "mimetype": "text/x-python",
   "name": "python",
   "nbconvert_exporter": "python",
   "pygments_lexer": "ipython3",
   "version": "3.9.7"
  }
 },
 "nbformat": 4,
 "nbformat_minor": 5
}
