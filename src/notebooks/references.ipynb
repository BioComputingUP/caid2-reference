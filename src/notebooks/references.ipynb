{
 "cells": [
  {
   "cell_type": "markdown",
   "id": "ce28b11f",
   "metadata": {},
   "source": [
    "# ENVs"
   ]
  },
  {
   "cell_type": "code",
   "execution_count": 24,
   "id": "604a4af2",
   "metadata": {},
   "outputs": [],
   "source": [
    "dir_pjs         = \"/home/martingb/Projects/\"\n",
    "# caid-reference\n",
    "dir_main        = f\"{dir_pjs}2022/caid2-reference/\"\n",
    "dir_data        = f\"{dir_main}data/\"\n",
    "dir_data_lists  = f\"{dir_data}lists/\"\n",
    "dir_data_tables = f\"{dir_data}tables/\"\n",
    "dir_src         = f\"{dir_main}src/\"\n",
    "dir_src_modules = f\"{dir_src}modules/\"\n",
    "dir_tmp         = f\"{dir_main}tmp/\""
   ]
  },
  {
   "cell_type": "markdown",
   "id": "c0a43a95-07ef-47a4-9865-2ad11c49ce02",
   "metadata": {},
   "source": [
    "# Imports"
   ]
  },
  {
   "cell_type": "code",
   "execution_count": 25,
   "id": "52187c53",
   "metadata": {},
   "outputs": [],
   "source": [
    "import os\n",
    "import json\n",
    "import requests\n",
    "import pandas as pd\n",
    "from pprint import pprint"
   ]
  },
  {
   "cell_type": "markdown",
   "id": "903970be",
   "metadata": {},
   "source": [
    "# Functions"
   ]
  },
  {
   "cell_type": "code",
   "execution_count": null,
   "id": "79feae59",
   "metadata": {},
   "outputs": [],
   "source": [
    "from typing import Any, Literal, get_args\n",
    "from requests import RequestException\n",
    "from enum import Enum\n",
    "\n",
    "class Disprot_versions(Enum):\n",
    "    DATE10 = \"2022_06\"\n",
    "    DATE9 = \"2022_03\"\n",
    "    DATE8 = \"2021_12\"\n",
    "    DATE7 = \"2021_08\"\n",
    "    DATE6 = \"2021_06\"\n",
    "    DATE5 = \"2020_12\"\n",
    "    DATE4 = \"2020_06\"\n",
    "    DATE3 = \"2019_09\"\n",
    "    DATE2 = \"2018_11\"\n",
    "    DATE1 = \"2016_10\"\n",
    "\n",
    "class Disprot_namespaces(Enum):\n",
    "    NS5 = \"structural_state\"\n",
    "    NS4 = \"transition_state\"\n",
    "    NS3 = \"interaction_partner\"\n",
    "    NS2 = \"disorder_function\"\n",
    "    NS1 = \"all\"\n",
    "\n",
    "\n",
    "def get_disprot_release( version  : Literal[ \"2022_06\"\n",
    "                                           , \"2022_03\"\n",
    "                                           , \"2021_12\"\n",
    "                                           , \"2021_08\"\n",
    "                                           , \"2021_06\"\n",
    "                                           , \"2020_12\"\n",
    "                                           , \"2020_06\"\n",
    "                                           , \"2019_09\"\n",
    "                                           , \"2018_11\"\n",
    "                                           , \"2016_10\" ]\n",
    "                       , namespace: Literal[ \"structural_state\"\n",
    "                                           , \"transition_state\"\n",
    "                                           , \"interaction_partner\"\n",
    "                                           , \"disorder_function\"\n",
    "                                           , \"all\" ]\n",
    "                       , ambiguos : str=\"false\"\n",
    "                       , obsolete : str=\"false\"\n",
    "                       , format   : Literal[ \"json\"\n",
    "                                           , \"fasta\"\n",
    "                                           , \"tsv\" ] = \"json\"\n",
    "                       , consensus: str=\"true\" ):\n",
    "    # \"\"\"\n",
    "    # Get a DisProt release. \n",
    "    # Observations:\n",
    "    #     * Uses DisProt API: 'https://disprot.org/api'\n",
    "    #     * By default it returns a json.\n",
    "    # https://disprot.org/api/search?release=curator&show_ambiguous=false&show_obsolete=false&format=fasta&namespace=structural_state&get_consensus=true\n",
    "\n",
    "    # https://mobidb.bio.unipd.it/mobidb3_datasets/latest/derived_disorder.mjson.gz\n",
    "    # \"\"\"\n",
    "    versions   = Literal[ \"2022_06\", \"2022_03\", \"2021_12\", \"2021_08\", \"2021_06\"\n",
    "                        , \"2020_12\", \"2020_06\", \"2019_09\", \"2018_11\", \"2016_10\" ]\n",
    "    namespaces = Literal[ \"structural_state\", \"transition_state\"\n",
    "                        , \"interaction_partner\", \"disorder_function\", \"all\" ]\n",
    "    formats    = Literal[ \"json\", \"fasta\", \"tsv\" ]\n",
    "\n",
    "    assert version   in get_args(versions), f\"'{version}' not a valid value for version.\"\n",
    "    assert namespace in get_args(namespaces), f\"'{namespace}' not a valid value for namespace.\"\n",
    "    assert format    in get_args(formats), f\"'{format}' not a valid value for format.\"\n",
    "\n",
    "    server = \"https://disprot.org/api\"\n",
    "    endpoint = \"search?\"\n",
    "\n",
    "    url = f\"{server}/{endpoint}\"\n",
    "\n",
    "    r = requests.get(url, params = { \"release\"        : version\n",
    "                                   , \"show_ambiguous\" : ambiguos\n",
    "                                   , \"show_obsolete\"  : obsolete\n",
    "                                   , \"format\"         : format\n",
    "                                   , \"namespace\"      : namespace\n",
    "                                   , \"get_consensus\"  : consensus } )\n",
    "\n",
    "    print(r.url)\n",
    "    #print(r.text)\n",
    "\n",
    "    try:\n",
    "        r.status_code == 200\n",
    "    except RequestException as e:\n",
    "        raise e (f\"Request error: {r.status_code}\")\n",
    "\n",
    "    if format == \"json\":\n",
    "        return r.json()\n",
    "    elif format == \"fasta\" or format == \"tsv\":\n",
    "        return r.text\n",
    "\n",
    "\n",
    "def save_disprot_release_file( response_content: Any\n",
    "                             , filename: str\n",
    "                             , dir_output: str ) -> None:\n",
    "    # \"\"\"\n",
    "    # Save the DisProt file.\n",
    "    # \"\"\"\n",
    "    if dir_output.endswith(\"/\"):\n",
    "        dir_output = dir_output[:-1]\n",
    "    os.makedirs(f\"{dir_output}\", exist_ok=True)\n",
    "    with open(f\"{dir_output}/{filename}\", \"w\") as f:\n",
    "        if isinstance(response_content, dict):\n",
    "            f.writelines(json.dumps(response_content))\n",
    "        else:\n",
    "            f.writelines(response_content.strip())\n",
    "    return\n"
   ]
  },
  {
   "cell_type": "markdown",
   "id": "33ec0644",
   "metadata": {},
   "source": [
    "# Retrieve release file"
   ]
  },
  {
   "cell_type": "code",
   "execution_count": 27,
   "id": "523da96b",
   "metadata": {},
   "outputs": [
    {
     "name": "stdout",
     "output_type": "stream",
     "text": [
      "https://disprot.org/api/search?release=2018_11&show_ambiguous=false&show_obsolete=false&format=tsv&namespace=structural_state&get_consensus=true\n"
     ]
    }
   ],
   "source": [
    "aversion=\"2018_11\"\n",
    "#aversion=\"2022_06\"\n",
    "\n",
    "anamespace=\"structural_state\"\n",
    "#anamespace=\"interaction_partner\"\n",
    "#anamespace=\"all\"\n",
    "\n",
    "#aformat=\"json\"\n",
    "aformat=\"tsv\"\n",
    "#aformat=\"fasta\"\n",
    "\n",
    "arelease = get_disprot_release( version   = aversion\n",
    "                              , namespace = anamespace\n",
    "                              , format    = aformat )"
   ]
  },
  {
   "cell_type": "markdown",
   "id": "99f81f89",
   "metadata": {},
   "source": [
    "### Explore the release"
   ]
  },
  {
   "cell_type": "code",
   "execution_count": 28,
   "id": "ffa03621",
   "metadata": {},
   "outputs": [
    {
     "name": "stdout",
     "output_type": "stream",
     "text": [
      "<class 'str'>\n"
     ]
    }
   ],
   "source": [
    "print(type(arelease))\n",
    "if isinstance(arelease, dict):\n",
    "    print(f\"data length: {arelease['size']}\")\n",
    "    #print(arelease[\"data\"][0])\n",
    "    pprint(arelease[\"data\"][1])"
   ]
  },
  {
   "cell_type": "markdown",
   "id": "1b4d4c65",
   "metadata": {},
   "source": [
    "# Save file"
   ]
  },
  {
   "cell_type": "code",
   "execution_count": 29,
   "id": "496f3900",
   "metadata": {},
   "outputs": [],
   "source": [
    "save_disprot_release_file( response_content = arelease\n",
    "                         , filename         = f\"disprot-{aversion}-{anamespace}.{aformat}\"\n",
    "                         , dir_output       = dir_tmp )"
   ]
  },
  {
   "cell_type": "code",
   "execution_count": null,
   "id": "2414be75",
   "metadata": {},
   "outputs": [],
   "source": []
  }
 ],
 "metadata": {
  "kernelspec": {
   "display_name": "Python 3.10.2 ('.caid2_reference3102': venv)",
   "language": "python",
   "name": "python3"
  },
  "language_info": {
   "codemirror_mode": {
    "name": "ipython",
    "version": 3
   },
   "file_extension": ".py",
   "mimetype": "text/x-python",
   "name": "python",
   "nbconvert_exporter": "python",
   "pygments_lexer": "ipython3",
   "version": "3.10.2"
  },
  "vscode": {
   "interpreter": {
    "hash": "f2991660129badcba6c5c5e1ee996d0a60c2dfaf302bb501f5ec3e2a8e54caa7"
   }
  }
 },
 "nbformat": 4,
 "nbformat_minor": 5
}
