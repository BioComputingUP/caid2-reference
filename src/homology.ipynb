{
 "cells": [
  {
   "cell_type": "markdown",
   "id": "23bfdabc",
   "metadata": {},
   "source": [
    "## Homology analysis\n",
    "\n",
    "Generate BLAST alignments of the new DisProt against the old DisProt and against PDB seqres\n",
    "\n",
    "Install blast on your home (check the version and paths)\n",
    "```\n",
    "wget https://ftp.ncbi.nlm.nih.gov/blast/executables/blast+/LATEST/ncbi-blast-2.13.0+-x64-linux.tar.gz\n",
    "tar -xf ncbi-blast-2.13.0+-x64-linux.tar.gz\n",
    "export PATH=\"/home/$USER/ncbi-blast-2.13.0+/bin:$PATH\" \n",
    "```\n",
    "Download PDB seqres\n",
    "```\n",
    "mkdir -p ../data/output/blastdb\n",
    "wget https://ftp.wwpdb.org/pub/pdb/derived_data/pdb_seqres.txt.gz -O ../data/output/blastdb/pdb_seqres.txt.gz\n",
    "gunzip ../data/output/blastdb/pdb_seqres.txt.gz\n",
    "```\n",
    "\n",
    "Make dbs\n",
    "```\n",
    "makeblastdb -in ../data/output/disprot_old.fasta -dbtype prot -out ../data/output/blastdb/disprot_old.fasta\n",
    "makeblastdb -in ../data/output/blastdb/pdb_seqres.txt -dbtype prot\n",
    "```\n",
    "\n",
    "Run BLAST\n",
    "```\n",
    "blastp -db ../data/output/blastdb/disprot_old.fasta -query ../data/output/disprot_new.fasta -out ../data/output/disprot_new_old.blast -outfmt 6 -num_threads 12\n",
    "blastp -db ../data/output/blastdb/pdb_seqres.txt -query ../data/output/disprot_new.fasta -out ../data/output/disprot_new_pdb.blast -outfmt 6 -num_threads 12\n",
    "```"
   ]
  },
  {
   "cell_type": "code",
   "execution_count": 2,
   "id": "e3242694",
   "metadata": {},
   "outputs": [],
   "source": [
    "# Parse BLAST result\n",
    "from Bio import pairwise2\n",
    "from Bio.SubsMat import MatrixInfo\n",
    "import sys"
   ]
  },
  {
   "cell_type": "code",
   "execution_count": 3,
   "id": "cd0a4b86",
   "metadata": {},
   "outputs": [],
   "source": [
    "# Fasta\n",
    "disprot_new_fasta_file = \"../data/output/disprot_new.fasta\"\n",
    "disprot_old_fasta_file = \"../data/output/disprot_old.fasta\"\n",
    "seqres_fasta_file = \"../data/output/blastdb/pdb_seqres.txt\"\n",
    "\n",
    "# Blast\n",
    "disprot_new_old_blast_file = \"../data/output/disprot_new_old.blast\"\n",
    "disprot_new_pdb_blast_file = \"../data/output/disprot_new_pdb.blast\"\n",
    "\n",
    "# Output\n",
    "out_file = \"../data/output/homology.tsv\""
   ]
  },
  {
   "cell_type": "code",
   "execution_count": 4,
   "id": "39fa5385",
   "metadata": {},
   "outputs": [
    {
     "name": "stdout",
     "output_type": "stream",
     "text": [
      "['DP02342|P06837', 'DP02348|Q8N5F7', 'DP02361|O95429', 'DP02364|Q9H6Z4-3', 'DP02376|Q4ACU6', 'DP02377|Q9GRZ3', 'DP02393|Q8IZD2', 'DP02401|O61380', 'DP02405|Q8IYW5', 'DP02411|Q08050']\n",
      "753808\n"
     ]
    }
   ],
   "source": [
    "# Collect all sequences\n",
    "sequences = {}\n",
    "for file_name in [disprot_new_fasta_file, disprot_old_fasta_file, seqres_fasta_file]:\n",
    "    with open(file_name) as f:\n",
    "        for line in f:\n",
    "            if line[0] == \">\":\n",
    "                name = line[1:].strip().split()[0]\n",
    "            else:\n",
    "                sequences[name] = line.strip()\n",
    "\n",
    "print(list(sequences.keys())[:10])\n",
    "print(len(sequences))"
   ]
  },
  {
   "cell_type": "code",
   "execution_count": 5,
   "id": "5a0f5149",
   "metadata": {},
   "outputs": [
    {
     "name": "stdout",
     "output_type": "stream",
     "text": [
      "../data/output/disprot_new_old.blast 494\n",
      "../data/output/disprot_new_pdb.blast 494\n"
     ]
    }
   ],
   "source": [
    "# Parse blast output\n",
    "# Recalculate identity percentage normalizing over the query length\n",
    "\n",
    "\"\"\"\n",
    "DP02150 DP02150 100.000 462     0       0       1       462     1       462     0.0     939\n",
    "DP02150 DP01437 37.895  95      58      1       288     382     199     292     1.58e-12        64.7\n",
    "DP02150 DP02426 43.878  98      49      4       262     356     115     209     1.16e-10        60.5\n",
    "DP02849\tDP00563\t45.833\t24\t9\t1\t144\t163\t139\t162\t1.7\t25.8\n",
    "\"\"\"\n",
    "\n",
    "blast = {}\n",
    "\n",
    "for blast_file, db in zip([disprot_new_old_blast_file, disprot_new_pdb_blast_file], \n",
    "                                [\"disprot\", \"pdb\"]):\n",
    "    with open(blast_file) as f:\n",
    "        for line in f:\n",
    "            qseqid, sseqid, pident, length, mismatch, gapopen, qstart, qend, sstart, send, evalue, bitscore = line.strip().split()\n",
    "            pident = (float(qend) - float(qstart) + 1 - float(mismatch))*100 / len(sequences[qseqid])\n",
    "\n",
    "            blast.setdefault(qseqid, {}).setdefault(db, {}).setdefault(sseqid, 0.0)\n",
    "            blast[qseqid][db][sseqid] = max(blast[qseqid][db][sseqid], float(pident))\n",
    "    print(blast_file, len(blast))"
   ]
  },
  {
   "cell_type": "code",
   "execution_count": null,
   "id": "eb6a7070",
   "metadata": {
    "pycharm": {
     "is_executing": true
    }
   },
   "outputs": [
    {
     "name": "stdout",
     "output_type": "stream",
     "text": [
      "DP02342|P06837\n",
      "DP02348|Q8N5F7\n",
      "DP02361|O95429\n",
      "DP02364|Q9H6Z4-3\n",
      "DP02376|Q4ACU6\n",
      "DP02377|Q9GRZ3\n",
      "DP02393|Q8IZD2\n",
      "DP02401|O61380\n",
      "DP02405|Q8IYW5\n",
      "DP02411|Q08050\n",
      "DP02418|P35568\n",
      "DP02421|O94687\n",
      "DP02445|Q96RS0\n",
      "DP02448|Q03707\n",
      "DP02449|Q15583\n",
      "DP02457|O95400\n",
      "DP02465|P07199\n",
      "DP02468|P17480\n",
      "DP02470|Q12495\n",
      "DP02472|Q3U182\n"
     ]
    }
   ],
   "source": [
    "with open(out_file, \"w\") as fout:\n",
    "\n",
    "    fout.write(\"disprot_id\\tdb\\tblast_acc\\tblast_id\\tlocal_acc\\tlocal_id\\tglobal_acc\\tglobal_id\\n\")\n",
    "\n",
    "    for i, disprot_id in enumerate(blast):\n",
    "        print(disprot_id)\n",
    "        \n",
    "        disprot_id_len = len(sequences[disprot_id])\n",
    "        \n",
    "        for db in blast[disprot_id]:\n",
    "            \n",
    "            matches = {\"local\": [], \"global\": []}\n",
    "            \n",
    "            for sseqid in blast[disprot_id][db]:\n",
    "#                 print(sequences[sseqid])\n",
    "                try:\n",
    "                    alignment = pairwise2.align.globalds(sequences[disprot_id], sequences[sseqid], MatrixInfo.blosum62, -10, -0.5, one_alignment_only=True)[0]\n",
    "                    identity = sum([1 if a == b else 0 for a, b in zip(alignment.seqA, alignment.seqB)]) * 100 / disprot_id_len\n",
    "                    matches[\"global\"].append((sseqid, identity))\n",
    "                except Exception as e:\n",
    "                    # print(e)\n",
    "                    pass\n",
    "                \n",
    "                try:\n",
    "                    alignment = pairwise2.align.localds(sequences[disprot_id], sequences[sseqid], MatrixInfo.blosum62, -10, -0.5, one_alignment_only=True)[0]\n",
    "                    identity = sum([1 if a == b else 0 for a, b in zip(alignment.seqA, alignment.seqB)]) * 100 / disprot_id_len\n",
    "                    matches[\"local\"].append((sseqid, identity))\n",
    "                except Exception as e:\n",
    "                    # print(e)\n",
    "                    pass\n",
    "\n",
    "            # Sort based on best identity\n",
    "            best_blast = sorted(blast[disprot_id][db].items(), key=lambda x: x[1], reverse=True)[0]\n",
    "            best_local = [None, None]\n",
    "            best_global = [None, None]\n",
    "            if matches[\"local\"]:\n",
    "                best_local = sorted(matches[\"local\"], key=lambda x: x[1], reverse=True)[0]\n",
    "            if matches[\"global\"]:\n",
    "                best_global = sorted(matches[\"global\"], key=lambda x: x[1], reverse=True)[0]\n",
    "            \n",
    "#             print(best_blast, best_local, best_global)\n",
    "            \n",
    "            # Write to file\n",
    "            fout.write(\"{}\\t{}\\t{}\\t{}\\t{}\\t{}\\t{}\\t{}\\n\".format(disprot_id, db, *best_blast, *best_local, *best_global))\n",
    "            \n",
    "#         if i==2:\n",
    "#             break\n"
   ]
  },
  {
   "cell_type": "code",
   "execution_count": null,
   "id": "65f77c62",
   "metadata": {
    "pycharm": {
     "is_executing": true
    }
   },
   "outputs": [],
   "source": []
  }
 ],
 "metadata": {
  "kernelspec": {
   "display_name": "Python 3 (ipykernel)",
   "language": "python",
   "name": "python3"
  },
  "language_info": {
   "codemirror_mode": {
    "name": "ipython",
    "version": 3
   },
   "file_extension": ".py",
   "mimetype": "text/x-python",
   "name": "python",
   "nbconvert_exporter": "python",
   "pygments_lexer": "ipython3",
   "version": "3.9.12"
  }
 },
 "nbformat": 4,
 "nbformat_minor": 5
}
