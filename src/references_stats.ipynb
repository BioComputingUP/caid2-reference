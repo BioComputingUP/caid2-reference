{
 "cells": [
  {
   "cell_type": "code",
   "execution_count": 16,
   "id": "36b88bb3",
   "metadata": {},
   "outputs": [],
   "source": [
    "import pandas as pd\n",
    "import os\n",
    "import matplotlib\n",
    "import matplotlib.pyplot as plt\n"
   ]
  },
  {
   "cell_type": "code",
   "execution_count": 2,
   "id": "29b012e2",
   "metadata": {},
   "outputs": [],
   "source": [
    "dataset_merge_file = \"../data/output/dataset_merge.tsv\"\n",
    "references_dir = \"../data/output/references\"\n",
    "\n",
    "# Output\n",
    "fig_dir = \"../data/output\""
   ]
  },
  {
   "cell_type": "code",
   "execution_count": 3,
   "id": "0966c40d",
   "metadata": {},
   "outputs": [
    {
     "data": {
      "text/html": [
       "<div>\n",
       "<style scoped>\n",
       "    .dataframe tbody tr th:only-of-type {\n",
       "        vertical-align: middle;\n",
       "    }\n",
       "\n",
       "    .dataframe tbody tr th {\n",
       "        vertical-align: top;\n",
       "    }\n",
       "\n",
       "    .dataframe thead th {\n",
       "        text-align: right;\n",
       "    }\n",
       "</style>\n",
       "<table border=\"1\" class=\"dataframe\">\n",
       "  <thead>\n",
       "    <tr style=\"text-align: right;\">\n",
       "      <th></th>\n",
       "      <th></th>\n",
       "      <th></th>\n",
       "      <th></th>\n",
       "      <th></th>\n",
       "      <th>value</th>\n",
       "    </tr>\n",
       "    <tr>\n",
       "      <th>group</th>\n",
       "      <th>reference</th>\n",
       "      <th>disprot_id</th>\n",
       "      <th>pos</th>\n",
       "      <th>aa</th>\n",
       "      <th></th>\n",
       "    </tr>\n",
       "  </thead>\n",
       "  <tbody>\n",
       "    <tr>\n",
       "      <th rowspan=\"11\" valign=\"top\">binding</th>\n",
       "      <th rowspan=\"5\" valign=\"top\">nucleic_acid_binding</th>\n",
       "      <th rowspan=\"5\" valign=\"top\">DP02348</th>\n",
       "      <th>1</th>\n",
       "      <th>M</th>\n",
       "      <td>0</td>\n",
       "    </tr>\n",
       "    <tr>\n",
       "      <th>2</th>\n",
       "      <th>A</th>\n",
       "      <td>0</td>\n",
       "    </tr>\n",
       "    <tr>\n",
       "      <th>3</th>\n",
       "      <th>P</th>\n",
       "      <td>0</td>\n",
       "    </tr>\n",
       "    <tr>\n",
       "      <th>4</th>\n",
       "      <th>V</th>\n",
       "      <td>0</td>\n",
       "    </tr>\n",
       "    <tr>\n",
       "      <th>5</th>\n",
       "      <th>S</th>\n",
       "      <td>0</td>\n",
       "    </tr>\n",
       "    <tr>\n",
       "      <th>...</th>\n",
       "      <th>...</th>\n",
       "      <th>...</th>\n",
       "      <th>...</th>\n",
       "      <td>...</td>\n",
       "    </tr>\n",
       "    <tr>\n",
       "      <th rowspan=\"5\" valign=\"top\">binding_disorder</th>\n",
       "      <th rowspan=\"5\" valign=\"top\">DP03880</th>\n",
       "      <th>787</th>\n",
       "      <th>E</th>\n",
       "      <td>-</td>\n",
       "    </tr>\n",
       "    <tr>\n",
       "      <th>788</th>\n",
       "      <th>L</th>\n",
       "      <td>-</td>\n",
       "    </tr>\n",
       "    <tr>\n",
       "      <th>789</th>\n",
       "      <th>K</th>\n",
       "      <td>-</td>\n",
       "    </tr>\n",
       "    <tr>\n",
       "      <th>790</th>\n",
       "      <th>C</th>\n",
       "      <td>-</td>\n",
       "    </tr>\n",
       "    <tr>\n",
       "      <th>791</th>\n",
       "      <th>G</th>\n",
       "      <td>-</td>\n",
       "    </tr>\n",
       "  </tbody>\n",
       "</table>\n",
       "<p>1580241 rows × 1 columns</p>\n",
       "</div>"
      ],
      "text/plain": [
       "                                               value\n",
       "group   reference            disprot_id pos aa      \n",
       "binding nucleic_acid_binding DP02348    1   M      0\n",
       "                                        2   A      0\n",
       "                                        3   P      0\n",
       "                                        4   V      0\n",
       "                                        5   S      0\n",
       "...                                              ...\n",
       "        binding_disorder     DP03880    787 E      -\n",
       "                                        788 L      -\n",
       "                                        789 K      -\n",
       "                                        790 C      -\n",
       "                                        791 G      -\n",
       "\n",
       "[1580241 rows x 1 columns]"
      ]
     },
     "execution_count": 3,
     "metadata": {},
     "output_type": "execute_result"
    }
   ],
   "source": [
    "tuples = []\n",
    "for reference_file in os.listdir(references_dir):\n",
    "    with open(\"{}/{}\".format(references_dir, reference_file)) as f:\n",
    "        data = {}\n",
    "        reference_name = reference_file.split(\".\")[0]\n",
    "        group = None\n",
    "        for k in ['linker', 'binding', 'disorder']:  # order matters\n",
    "            if k in reference_name:\n",
    "                group = k\n",
    "                break\n",
    "        for line in f:\n",
    "            if line:\n",
    "                if line[0] == \">\":\n",
    "                    name = line.strip()[1:]\n",
    "                    data.setdefault(name, [])\n",
    "                else:\n",
    "                    data[name].append(list(line.strip()))\n",
    "        for name in data:\n",
    "            for i, (aa, val) in enumerate(zip(*data[name])):\n",
    "                tuples.append((group, reference_name, name, i + 1, aa, val))\n",
    "df = pd.DataFrame(tuples, columns=['group', 'reference', 'disprot_id', 'pos', 'aa', 'value'])\n",
    "df.set_index(['group', 'reference', 'disprot_id', 'pos', 'aa'], inplace=True)\n",
    "df"
   ]
  },
  {
   "cell_type": "code",
   "execution_count": 20,
   "id": "66ff469d",
   "metadata": {},
   "outputs": [
    {
     "name": "stdout",
     "output_type": "stream",
     "text": [
      "value                       -        0       1\n",
      "reference                                     \n",
      "binding                   0.0  69478.0  8376.0\n",
      "binding_disorder      65502.0   3976.0  8376.0\n",
      "nucleic_acid_binding      0.0   8400.0   502.0\n",
      "value                     -         0         1\n",
      "reference                                      \n",
      "disorder                0.0  334785.0   41609.0\n",
      "disorder_nox            0.0  159234.0   31823.0\n",
      "disorder_pdb       191881.0  142904.0   41609.0\n",
      "disorder_pdb_fill       0.0  143088.0  234922.0\n",
      "value                  -        0       1\n",
      "reference                                \n",
      "linker               0.0  44241.0  2647.0\n",
      "linker_disorder  42004.0   2237.0  2647.0\n"
     ]
    },
    {
     "data": {
      "image/png": "[encoded data removed]",
      "text/plain": [
       "<Figure size 432x288 with 1 Axes>"
      ]
     },
     "metadata": {
      "needs_background": "light"
     },
     "output_type": "display_data"
    },
    {
     "data": {
      "image/png": "[encoded data removed]",
      "text/plain": [
       "<Figure size 432x288 with 1 Axes>"
      ]
     },
     "metadata": {
      "needs_background": "light"
     },
     "output_type": "display_data"
    },
    {
     "data": {
      "image/png": "[encoded data removed]",
      "text/plain": [
       "<Figure size 432x288 with 1 Axes>"
      ]
     },
     "metadata": {
      "needs_background": "light"
     },
     "output_type": "display_data"
    }
   ],
   "source": [
    "for group, df_g in df.groupby(level='group'):\n",
    "    df2 = df_g.groupby(['reference'])['value'].value_counts().unstack('value').fillna(0).sort_values(by=['reference'], ascending=[True])\n",
    "    print(df2)\n",
    "    ax = df2.drop(columns=['-']).plot(kind='barh', stacked=True)\n",
    "    ax.set_ybound(-1, 4)\n",
    "#     ax.get_legend().remove()\n",
    "    ax.set_xlabel('Residues')\n",
    "    ax.xaxis.set_major_formatter( matplotlib.ticker.FuncFormatter(lambda x, p: format(int(x), ',')))\n",
    "    ax.tick_params(axis='x', labelrotation=90)\n",
    "    fig = ax.get_figure()\n",
    "    fig.gca().set_ylabel(\"\")\n",
    "    fig.savefig(\"{}/stat_residues_{}.png\".format(fig_dir, group), dpi=300, bbox_inches='tight')"
   ]
  },
  {
   "cell_type": "code",
   "execution_count": 11,
   "id": "d023b4da",
   "metadata": {},
   "outputs": [
    {
     "name": "stdout",
     "output_type": "stream",
     "text": [
      "                      disprot_id\n",
      "reference                       \n",
      "binding                       89\n",
      "binding_disorder              89\n",
      "nucleic_acid_binding           9\n",
      "                   disprot_id\n",
      "reference                    \n",
      "disorder                  485\n",
      "disorder_nox              254\n",
      "disorder_pdb              485\n",
      "disorder_pdb_fill         486\n",
      "                 disprot_id\n",
      "reference                  \n",
      "linker                   49\n",
      "linker_disorder          49\n"
     ]
    },
    {
     "data": {
      "image/png": "[encoded data removed]",
      "text/plain": [
       "<Figure size 432x288 with 1 Axes>"
      ]
     },
     "metadata": {
      "needs_background": "light"
     },
     "output_type": "display_data"
    },
    {
     "data": {
      "image/png": "[encoded data removed]",
      "text/plain": [
       "<Figure size 432x288 with 1 Axes>"
      ]
     },
     "metadata": {
      "needs_background": "light"
     },
     "output_type": "display_data"
    },
    {
     "data": {
      "image/png": "[encoded data removed]",
      "text/plain": [
       "<Figure size 432x288 with 1 Axes>"
      ]
     },
     "metadata": {
      "needs_background": "light"
     },
     "output_type": "display_data"
    }
   ],
   "source": [
    "for group, df_g in df.groupby(level='group'):\n",
    "    df2 = df_g.reset_index(level='disprot_id').groupby(['reference'])['disprot_id'].nunique().reset_index().set_index('reference')\n",
    "    print(df2)\n",
    "    ax = df2.plot(kind='barh', width=0.5)\n",
    "    ax.set_ybound(-1, 4)\n",
    "    ax.get_legend().remove()\n",
    "    ax.set_xlabel('Proteins')\n",
    "    fig = ax.get_figure()\n",
    "    fig.gca().set_ylabel(\"\")\n",
    "    fig.savefig(\"{}/stat_proteins_{}.png\".format(fig_dir, group), dpi=300, bbox_inches='tight')"
   ]
  },
  {
   "cell_type": "code",
   "execution_count": null,
   "id": "5a043f93",
   "metadata": {},
   "outputs": [],
   "source": []
  },
  {
   "cell_type": "code",
   "execution_count": null,
   "id": "d4cd5eb4",
   "metadata": {},
   "outputs": [],
   "source": [
    "\n"
   ]
  }
 ],
 "metadata": {
  "kernelspec": {
   "display_name": "Python 3 (ipykernel)",
   "language": "python",
   "name": "python3"
  },
  "language_info": {
   "codemirror_mode": {
    "name": "ipython",
    "version": 3
   },
   "file_extension": ".py",
   "mimetype": "text/x-python",
   "name": "python",
   "nbconvert_exporter": "python",
   "pygments_lexer": "ipython3",
   "version": "3.9.7"
  }
 },
 "nbformat": 4,
 "nbformat_minor": 5
}
